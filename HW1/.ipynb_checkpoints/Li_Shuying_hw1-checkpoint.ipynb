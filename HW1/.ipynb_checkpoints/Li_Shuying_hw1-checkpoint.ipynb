{
 "cells": [
  {
   "cell_type": "markdown",
   "id": "d0fd795c",
   "metadata": {},
   "source": [
    "# STA 141B Homework 1"
   ]
  },
  {
   "cell_type": "markdown",
   "id": "8a3fb737",
   "metadata": {},
   "source": [
    "## Writing Functions \n",
    "\n",
    "__Exercise 1.1 (2 points).__ Write a function `my_median` that takes a list of numbers as input and returns their median as output. Let the number of samples in data set `n`. If `n` is odd, median is the middle number. If `n` is even, median is the average of two middle values. Test your function on one odd sample size and one even sample size example.\n",
    "\n",
    "_Hint: use `sorted` function._"
   ]
  },
  {
   "cell_type": "code",
   "execution_count": 1,
   "id": "13057b7e",
   "metadata": {
    "ExecuteTime": {
     "end_time": "2022-10-07T05:57:59.615766Z",
     "start_time": "2022-10-07T05:57:59.610987Z"
    },
    "code_folding": [],
    "run_control": {
     "marked": false
    }
   },
   "outputs": [],
   "source": [
    "def my_median(lst):\n",
    "    lst = sorted(lst)\n",
    "    n = len(lst)\n",
    "    # Even: if the reminder is 0 the length of the list is even\n",
    "    if n % 2 == 0: #\n",
    "        # Get two middle numbers and calculate their mean\n",
    "        return (lst[n//2] + lst[n//2 - 1]) / 2 # ((n/2)th + (n/2 + 1)th)/2\n",
    "    # Odd: if the reminder is not 0\n",
    "    else:\n",
    "        return lst[n//2] #Directly get the middle position's number"
   ]
  },
  {
   "cell_type": "code",
   "execution_count": 2,
   "id": "09f45ad3",
   "metadata": {
    "ExecuteTime": {
     "end_time": "2022-10-07T05:57:59.627203Z",
     "start_time": "2022-10-07T05:57:59.619819Z"
    }
   },
   "outputs": [
    {
     "name": "stdout",
     "output_type": "stream",
     "text": [
      "2\n",
      "True\n"
     ]
    }
   ],
   "source": [
    "#Test case - odd - Exercise 1.1\n",
    "## ONLY USE IN TEST CASES\n",
    "import statistics\n",
    "\n",
    "print(my_median([1,2,3]))\n",
    "print(statistics.median([1,2,3]) == my_median([1,2,3]))"
   ]
  },
  {
   "cell_type": "code",
   "execution_count": 3,
   "id": "4b79e423",
   "metadata": {
    "ExecuteTime": {
     "end_time": "2022-10-07T05:57:59.632885Z",
     "start_time": "2022-10-07T05:57:59.629069Z"
    }
   },
   "outputs": [
    {
     "name": "stdout",
     "output_type": "stream",
     "text": [
      "2.5\n",
      "True\n"
     ]
    }
   ],
   "source": [
    "#Test cases - even - Exercise 1.1\n",
    "print(my_median([1,2,3,4]))\n",
    "print(statistics.median([1,2,3,4]) == my_median([1,2,3,4]))"
   ]
  },
  {
   "cell_type": "markdown",
   "id": "810f5dfc",
   "metadata": {},
   "source": [
    "__Exercise 1.2 (2 points).__ For the function you wrote in Exercise 1.3, what happens if the input list is empty or contains non-numeric elements? Create a new version of your function called `better_median` that returns `None` when either of these unusual cases occur. (Be cautious not to print `\"None\"` string. The output should be empty.)\n",
    "\n",
    "_Hint: A similar problem is discussed in [Section 6.8](http://greenteapress.com/thinkpython2/html/thinkpython2007.html#sec77) of Think Python._"
   ]
  },
  {
   "cell_type": "code",
   "execution_count": 4,
   "id": "c9891b5e",
   "metadata": {
    "ExecuteTime": {
     "end_time": "2022-10-07T05:57:59.637610Z",
     "start_time": "2022-10-07T05:57:59.635541Z"
    }
   },
   "outputs": [],
   "source": [
    "def better_median(lst):\n",
    "    if len(lst) > 0:\n",
    "        # To test each item in the list\n",
    "        for item in lst:\n",
    "            # if one of the item is a string\n",
    "            if isinstance(item, str) == True:\n",
    "                return None\n",
    "        # calculate the median from Exercise 1.1\n",
    "        return my_median(lst)\n",
    "    else: #If the length of the list is equal or less then 0\n",
    "        return None"
   ]
  },
  {
   "cell_type": "markdown",
   "id": "0b721228",
   "metadata": {},
   "source": [
    "Complete code:\n",
    "```python\n",
    "def better_median(lst):\n",
    "    if len(lst) > 0:\n",
    "        for item in lst:\n",
    "            if isinstance(item, str) == True:\n",
    "                return None\n",
    "        lst = sorted(lst)\n",
    "        n = len(lst)\n",
    "        # Even\n",
    "        if n % 2 == 0:\n",
    "            return (lst[n//2] + lst[n//2 - 1]) / 2\n",
    "        # Odd\n",
    "        else:\n",
    "            return lst[n//2]         \n",
    "    else:\n",
    "        return None\n",
    "```"
   ]
  },
  {
   "cell_type": "code",
   "execution_count": 5,
   "id": "8252cc7c",
   "metadata": {
    "ExecuteTime": {
     "end_time": "2022-10-07T05:57:59.663827Z",
     "start_time": "2022-10-07T05:57:59.661463Z"
    }
   },
   "outputs": [],
   "source": [
    "#Test case - Exercise 1.2\n",
    "better_median([])"
   ]
  },
  {
   "cell_type": "code",
   "execution_count": 6,
   "id": "ac4e09c9",
   "metadata": {
    "ExecuteTime": {
     "end_time": "2022-10-07T05:57:59.668728Z",
     "start_time": "2022-10-07T05:57:59.666333Z"
    }
   },
   "outputs": [],
   "source": [
    "#Test case - Exercise 1.2\n",
    "better_median([1,2,3,'little', 'box'])"
   ]
  },
  {
   "cell_type": "code",
   "execution_count": 7,
   "id": "7271d534",
   "metadata": {
    "ExecuteTime": {
     "end_time": "2022-10-07T05:57:59.671541Z",
     "start_time": "2022-10-07T05:57:59.669597Z"
    }
   },
   "outputs": [
    {
     "name": "stdout",
     "output_type": "stream",
     "text": [
      "3.0\n",
      "True\n"
     ]
    }
   ],
   "source": [
    "#Test case - Exercise 1.2\n",
    "print(better_median([1,3,3,5,6,7,2,3]))\n",
    "print(statistics.median([1,3,3,5,6,7,2,3]) == better_median([1,3,3,5,6,7,2,3]))"
   ]
  },
  {
   "cell_type": "code",
   "execution_count": 8,
   "id": "a5430137",
   "metadata": {
    "ExecuteTime": {
     "end_time": "2022-10-07T05:57:59.673896Z",
     "start_time": "2022-10-07T05:57:59.672264Z"
    }
   },
   "outputs": [
    {
     "name": "stdout",
     "output_type": "stream",
     "text": [
      "3\n",
      "True\n"
     ]
    }
   ],
   "source": [
    "#Test case - Exercise 1.2\n",
    "print(better_median([2,3,4]))\n",
    "print(statistics.median([2,3,4]) == better_median([2,3,4]))"
   ]
  },
  {
   "cell_type": "markdown",
   "id": "1bb3fc91",
   "metadata": {},
   "source": [
    "__Exercise 1.3 (1 points).__ Read [Section 4.9](http://greenteapress.com/thinkpython2/html/thinkpython2005.html#sec50) of Think Python. Create a new version of your function from Exercise 1.4 called `best_median` that includes a docstring explaining how to use the function. Give an example to show that your docstring works with Python's built-in help system."
   ]
  },
  {
   "cell_type": "code",
   "execution_count": 9,
   "id": "927a8b06",
   "metadata": {
    "ExecuteTime": {
     "end_time": "2022-10-07T05:57:59.688042Z",
     "start_time": "2022-10-07T05:57:59.686300Z"
    }
   },
   "outputs": [],
   "source": [
    "def best_median(lst):\n",
    "    \"\"\"The best median function return the median (middle value) of numeric data\n",
    "    \n",
    "    The function will return to None if:\n",
    "    1. the list contains non-numeric elements\n",
    "    2. the length of the list is less or equal to 0\n",
    "    \n",
    "    If the length of the numeric list or array is odd, median is the middle number.\n",
    "    If the length of the numeric list or array is even, median is the average of two middle values.\n",
    "    \n",
    "    Example:\n",
    "    >>> best_median([1,2,2])\n",
    "    2\n",
    "    \n",
    "    >>> best_median([1,1,'little', 'box'])\n",
    "    None\n",
    "    \"\"\"\n",
    "    return better_median(lst)"
   ]
  },
  {
   "cell_type": "markdown",
   "id": "d10896b1",
   "metadata": {},
   "source": [
    "Complete Code:\n",
    "\n",
    "```python\n",
    "def best_median(lst):\n",
    "    \"\"\"The best median function return the median (middle value) of numeric data\n",
    "    \n",
    "    The function will return to None if:\n",
    "    1. the list contains non-numeric elements\n",
    "    2. the length of the list is less or equal to 0\n",
    "    \n",
    "    If the length of the numeric list or array is odd, median is the middle number.\n",
    "    If the length of the numeric list or array is even, median is the average of two middle values.\n",
    "    \n",
    "    Example:\n",
    "    >>> best_median([1,2,2])\n",
    "    2\n",
    "    \n",
    "    >>> best_median([1,1,'little', 'box'])\n",
    "    None\n",
    "    \"\"\"\n",
    "    if len(lst) > 0:\n",
    "        for item in lst:\n",
    "            if isinstance(item, str) == True:\n",
    "                return None\n",
    "        lst = sorted(lst)\n",
    "        n = len(lst)\n",
    "        # Even\n",
    "        if n % 2 == 0:\n",
    "            return (lst[n//2] + lst[n//2 - 1]) / 2\n",
    "        # Odd\n",
    "        else:\n",
    "            return lst[n//2]         \n",
    "    else:\n",
    "        return None\n",
    "```"
   ]
  },
  {
   "cell_type": "code",
   "execution_count": 10,
   "id": "cf08852b",
   "metadata": {
    "ExecuteTime": {
     "end_time": "2022-10-07T05:57:59.717800Z",
     "start_time": "2022-10-07T05:57:59.713133Z"
    }
   },
   "outputs": [
    {
     "name": "stdout",
     "output_type": "stream",
     "text": [
      "Help on function best_median in module __main__:\n",
      "\n",
      "best_median(lst)\n",
      "    The best median function return the median (middle value) of numeric data\n",
      "    \n",
      "    The function will return to None if:\n",
      "    1. the list contains non-numeric elements\n",
      "    2. the length of the list is less or equal to 0\n",
      "    \n",
      "    If the length of the numeric list or array is odd, median is the middle number.\n",
      "    If the length of the numeric list or array is even, median is the average of two middle values.\n",
      "    \n",
      "    Example:\n",
      "    >>> best_median([1,2,2])\n",
      "    2\n",
      "    \n",
      "    >>> best_median([1,1,'little', 'box'])\n",
      "    None\n",
      "\n"
     ]
    }
   ],
   "source": [
    "help(best_median)"
   ]
  },
  {
   "cell_type": "markdown",
   "id": "3d5f5052",
   "metadata": {},
   "source": [
    "## 1.2 Factorial\n",
    "\n",
    "The [Factorial](https://en.wikipedia.org/wiki/Factorial) of a non-negative integer `n`, denoted by n!, is the product of all positive integers less than or equal to n.\n",
    "\n",
    "For example,\n",
    "```\n",
    "5! = 5 x 4 x 3 x 2 x 1 = 120.\n",
    "```"
   ]
  },
  {
   "cell_type": "markdown",
   "id": "35c2fe7d",
   "metadata": {},
   "source": [
    "### Exercise 1.4\n",
    "\n",
    "__Exercise 1.4 (2 points).__ Write a function `fact` that computes the factorial without recursion. Your function should take an argument `n`.\n",
    "\n",
    "Use your function to print the 18! and 22!."
   ]
  },
  {
   "cell_type": "code",
   "execution_count": 11,
   "id": "e29fdeee",
   "metadata": {
    "ExecuteTime": {
     "end_time": "2022-10-07T05:57:59.765411Z",
     "start_time": "2022-10-07T05:57:59.760509Z"
    }
   },
   "outputs": [],
   "source": [
    "def fact(n):\n",
    "    # Initilization\n",
    "    sum = 1\n",
    "    # Use for loop to times from 1 to n\n",
    "    for i in range(1, n + 1):\n",
    "        sum *= i\n",
    "    return sum"
   ]
  },
  {
   "cell_type": "code",
   "execution_count": 12,
   "id": "04cfe987",
   "metadata": {
    "ExecuteTime": {
     "end_time": "2022-10-07T05:57:59.772664Z",
     "start_time": "2022-10-07T05:57:59.769122Z"
    }
   },
   "outputs": [
    {
     "name": "stdout",
     "output_type": "stream",
     "text": [
      "6402373705728000\n",
      "True\n"
     ]
    }
   ],
   "source": [
    "# Test Case - Exercise 1.4\n",
    "# ONLY USE IN TEST CASES\n",
    "import math\n",
    "\n",
    "print(fact(18))\n",
    "print(math.factorial(18) == fact(18))"
   ]
  },
  {
   "cell_type": "code",
   "execution_count": 13,
   "id": "8e15e059",
   "metadata": {
    "ExecuteTime": {
     "end_time": "2022-10-07T05:57:59.778462Z",
     "start_time": "2022-10-07T05:57:59.774662Z"
    }
   },
   "outputs": [
    {
     "name": "stdout",
     "output_type": "stream",
     "text": [
      "1124000727777607680000\n",
      "True\n"
     ]
    }
   ],
   "source": [
    "# Test Case - Exercise 1.4\n",
    "print(fact(22))\n",
    "print(math.factorial(22) == fact(22))"
   ]
  },
  {
   "cell_type": "markdown",
   "id": "d4488b36",
   "metadata": {},
   "source": [
    "## 1.3 Fibonacci Words\n",
    "\n",
    "A [Fibonacci word](https://en.wikipedia.org/wiki/Fibonacci_word) is a string of 0s and 1s constructed by repeatedly concatenating strings. The first two words are\n",
    "\n",
    "```\n",
    "S0 = \"0\"\n",
    "S1 = \"01\"\n",
    "```\n",
    "\n",
    "Then each word is formed by concatenating the previous two words in the sequence. For instance, `S2`, is formed by concatenating `S1` and `S0`. So\n",
    "\n",
    "```\n",
    "S2 = \"010\"\n",
    "S3 = \"01001\"\n",
    "```\n"
   ]
  },
  {
   "cell_type": "markdown",
   "id": "3a808b3f",
   "metadata": {},
   "source": [
    "__Exercise 1.5 (3 points).__ Write a function `fib` that computes Fibonacci words. Your function should take an argument `n` that specifies which word to compute.\n",
    "\n",
    "Use your function to print the first 10 Fibonacci words."
   ]
  },
  {
   "cell_type": "code",
   "execution_count": 14,
   "id": "1dd3b755",
   "metadata": {
    "ExecuteTime": {
     "end_time": "2022-10-07T05:57:59.812265Z",
     "start_time": "2022-10-07T05:57:59.808069Z"
    }
   },
   "outputs": [],
   "source": [
    "def fib(n):\n",
    "    \"\"\" Compute nth element of a fibonacci words return nth fibonacci words\n",
    "    \"\"\"\n",
    "    # Initilization\n",
    "    s0 = '0'\n",
    "    s1 = '01'\n",
    "    for i in range(n):\n",
    "        \"\"\"\n",
    "        Basic Logic: s0 returns to the next, and s1 contacts to the previous one\n",
    "        -------\n",
    "        s0 | s1\n",
    "        -------\n",
    "        0  | 01\n",
    "        01 | 010\n",
    "        010| 01001\n",
    "        \n",
    "        The importance of this code is to make sure they can run at the same time,\n",
    "        in other words, s1 + s0 (before changing to the next one)\n",
    "        \"\"\"\n",
    "        s0, s1 = s1, s1 + s0\n",
    "    return s0"
   ]
  },
  {
   "cell_type": "code",
   "execution_count": 15,
   "id": "711eaf72",
   "metadata": {
    "ExecuteTime": {
     "end_time": "2022-10-07T05:57:59.820211Z",
     "start_time": "2022-10-07T05:57:59.816199Z"
    }
   },
   "outputs": [
    {
     "name": "stdout",
     "output_type": "stream",
     "text": [
      "0\n",
      "01\n",
      "010\n",
      "01001\n",
      "01001010\n",
      "0100101001001\n",
      "010010100100101001010\n",
      "0100101001001010010100100101001001\n",
      "0100101001001010010100100101001001010010100100101001010\n",
      "01001010010010100101001001010010010100101001001010010100100101001001010010100100101001001\n"
     ]
    }
   ],
   "source": [
    "# Test Case - Exercise 1.5\n",
    "for i in range(0,10):\n",
    "    print(fib(i))"
   ]
  },
  {
   "cell_type": "code",
   "execution_count": 16,
   "id": "808c0ebb",
   "metadata": {
    "ExecuteTime": {
     "end_time": "2022-10-07T05:57:59.825236Z",
     "start_time": "2022-10-07T05:57:59.822012Z"
    }
   },
   "outputs": [
    {
     "name": "stdout",
     "output_type": "stream",
     "text": [
      "Help on function fib in module __main__:\n",
      "\n",
      "fib(n)\n",
      "    Compute nth element of a fibonacci words return nth fibonacci words\n",
      "\n"
     ]
    }
   ],
   "source": [
    "help(fib)"
   ]
  }
 ],
 "metadata": {
  "kernelspec": {
   "display_name": "Python 3 (ipykernel)",
   "language": "python",
   "name": "python3"
  },
  "language_info": {
   "codemirror_mode": {
    "name": "ipython",
    "version": 3
   },
   "file_extension": ".py",
   "mimetype": "text/x-python",
   "name": "python",
   "nbconvert_exporter": "python",
   "pygments_lexer": "ipython3",
   "version": "3.10.1"
  },
  "latex_envs": {
   "LaTeX_envs_menu_present": true,
   "autoclose": false,
   "autocomplete": true,
   "bibliofile": "biblio.bib",
   "cite_by": "apalike",
   "current_citInitial": 1,
   "eqLabelWithNumbers": true,
   "eqNumInitial": 1,
   "hotkeys": {
    "equation": "Ctrl-E",
    "itemize": "Ctrl-I"
   },
   "labels_anchors": false,
   "latex_user_defs": false,
   "report_style_numbering": false,
   "user_envs_cfg": false
  },
  "toc": {
   "base_numbering": 1,
   "nav_menu": {},
   "number_sections": false,
   "sideBar": true,
   "skip_h1_title": true,
   "title_cell": "Table of Contents",
   "title_sidebar": "Contents",
   "toc_cell": false,
   "toc_position": {
    "height": "calc(100% - 180px)",
    "left": "10px",
    "top": "150px",
    "width": "288px"
   },
   "toc_section_display": true,
   "toc_window_display": false
  },
  "varInspector": {
   "cols": {
    "lenName": 16,
    "lenType": 16,
    "lenVar": 40
   },
   "kernels_config": {
    "python": {
     "delete_cmd_postfix": "",
     "delete_cmd_prefix": "del ",
     "library": "var_list.py",
     "varRefreshCmd": "print(var_dic_list())"
    },
    "r": {
     "delete_cmd_postfix": ") ",
     "delete_cmd_prefix": "rm(",
     "library": "var_list.r",
     "varRefreshCmd": "cat(var_dic_list()) "
    }
   },
   "types_to_exclude": [
    "module",
    "function",
    "builtin_function_or_method",
    "instance",
    "_Feature"
   ],
   "window_display": false
  }
 },
 "nbformat": 4,
 "nbformat_minor": 5
}
