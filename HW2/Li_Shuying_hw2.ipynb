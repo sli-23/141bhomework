{
 "cells": [
  {
   "cell_type": "markdown",
   "id": "20afca1d",
   "metadata": {
    "toc": true
   },
   "source": [
    "<h1>Table of Contents<span class=\"tocSkip\"></span></h1>\n",
    "<div class=\"toc\"><ul class=\"toc-item\"><li><span><a href=\"#Part-I:-Basic-Numpy-and-Pandas\" data-toc-modified-id=\"Part-I:-Basic-Numpy-and-Pandas-1\">Part I: Basic Numpy and Pandas</a></span></li><li><span><a href=\"#Exercise-2.1.1\" data-toc-modified-id=\"Exercise-2.1.1-2\">Exercise 2.1.1</a></span></li><li><span><a href=\"#Exercise-2.1.2\" data-toc-modified-id=\"Exercise-2.1.2-3\">Exercise 2.1.2</a></span></li><li><span><a href=\"#Exercise-2.2.1\" data-toc-modified-id=\"Exercise-2.2.1-4\">Exercise 2.2.1</a></span></li><li><span><a href=\"#Exercise-2.2.2\" data-toc-modified-id=\"Exercise-2.2.2-5\">Exercise 2.2.2</a></span></li><li><span><a href=\"#Exercise-2.3.1\" data-toc-modified-id=\"Exercise-2.3.1-6\">Exercise 2.3.1</a></span></li><li><span><a href=\"#Exercise-2.3.2\" data-toc-modified-id=\"Exercise-2.3.2-7\">Exercise 2.3.2</a></span></li><li><span><a href=\"#Exercise-2.3.3\" data-toc-modified-id=\"Exercise-2.3.3-8\">Exercise 2.3.3</a></span></li></ul></div>"
   ]
  },
  {
   "cell_type": "markdown",
   "id": "fa05e95e",
   "metadata": {},
   "source": [
    "# STA 141B Assignment 2\n",
    "### Part I: Basic Numpy and Pandas\n",
    "\n",
    "__Exercise 2.1 (3 points).__ \n",
    "\n",
    "1. Apply a `.stack()` function to the data frame `df1` below. Explain how `.stack()` works. Save stacked data frame `df1` as `df2`. \n",
    "\n",
    "2. Apply `.unstack()`, `.unstack(0)` and `.unstack(1)` function to `df2`. Explain how each of unstacking methods is different."
   ]
  },
  {
   "cell_type": "code",
   "execution_count": 1,
   "id": "e27f1513",
   "metadata": {
    "ExecuteTime": {
     "end_time": "2022-10-14T02:05:15.109505Z",
     "start_time": "2022-10-14T02:05:14.941821Z"
    }
   },
   "outputs": [
    {
     "data": {
      "text/html": [
       "<div>\n",
       "<style scoped>\n",
       "    .dataframe tbody tr th:only-of-type {\n",
       "        vertical-align: middle;\n",
       "    }\n",
       "\n",
       "    .dataframe tbody tr th {\n",
       "        vertical-align: top;\n",
       "    }\n",
       "\n",
       "    .dataframe thead th {\n",
       "        text-align: right;\n",
       "    }\n",
       "</style>\n",
       "<table border=\"1\" class=\"dataframe\">\n",
       "  <thead>\n",
       "    <tr style=\"text-align: right;\">\n",
       "      <th></th>\n",
       "      <th></th>\n",
       "      <th>A</th>\n",
       "      <th>B</th>\n",
       "    </tr>\n",
       "    <tr>\n",
       "      <th>first</th>\n",
       "      <th>second</th>\n",
       "      <th></th>\n",
       "      <th></th>\n",
       "    </tr>\n",
       "  </thead>\n",
       "  <tbody>\n",
       "    <tr>\n",
       "      <th rowspan=\"2\" valign=\"top\">bar</th>\n",
       "      <th>one</th>\n",
       "      <td>-0.235900</td>\n",
       "      <td>0.005337</td>\n",
       "    </tr>\n",
       "    <tr>\n",
       "      <th>two</th>\n",
       "      <td>-1.765434</td>\n",
       "      <td>1.731782</td>\n",
       "    </tr>\n",
       "    <tr>\n",
       "      <th rowspan=\"2\" valign=\"top\">baz</th>\n",
       "      <th>one</th>\n",
       "      <td>-0.473665</td>\n",
       "      <td>-0.167856</td>\n",
       "    </tr>\n",
       "    <tr>\n",
       "      <th>two</th>\n",
       "      <td>0.635485</td>\n",
       "      <td>-0.507431</td>\n",
       "    </tr>\n",
       "  </tbody>\n",
       "</table>\n",
       "</div>"
      ],
      "text/plain": [
       "                     A         B\n",
       "first second                    \n",
       "bar   one    -0.235900  0.005337\n",
       "      two    -1.765434  1.731782\n",
       "baz   one    -0.473665 -0.167856\n",
       "      two     0.635485 -0.507431"
      ]
     },
     "execution_count": 1,
     "metadata": {},
     "output_type": "execute_result"
    }
   ],
   "source": [
    "import numpy as np\n",
    "import pandas as pd\n",
    "\n",
    "tuples = list(\n",
    "    zip(\n",
    "        *[\n",
    "            [\"bar\", \"bar\", \"baz\", \"baz\", \"foo\", \"foo\", \"qux\", \"qux\"],\n",
    "            [\"one\", \"two\", \"one\", \"two\", \"one\", \"two\", \"one\", \"two\"],\n",
    "        ]\n",
    "    )\n",
    ")\n",
    "\n",
    "index = pd.MultiIndex.from_tuples(tuples, names=[\"first\", \"second\"])\n",
    "\n",
    "df = pd.DataFrame(np.random.randn(8, 2), index=index, columns=[\"A\", \"B\"])\n",
    "\n",
    "df1 = df[:4]\n",
    "\n",
    "df1"
   ]
  },
  {
   "cell_type": "markdown",
   "id": "c9591421",
   "metadata": {},
   "source": [
    "### Exercise 2.1.1"
   ]
  },
  {
   "cell_type": "code",
   "execution_count": 2,
   "id": "c67947b4",
   "metadata": {
    "ExecuteTime": {
     "end_time": "2022-10-14T02:05:15.113345Z",
     "start_time": "2022-10-14T02:05:15.110497Z"
    },
    "scrolled": true
   },
   "outputs": [
    {
     "data": {
      "text/plain": [
       "first  second   \n",
       "bar    one     A   -0.235900\n",
       "               B    0.005337\n",
       "       two     A   -1.765434\n",
       "               B    1.731782\n",
       "baz    one     A   -0.473665\n",
       "               B   -0.167856\n",
       "       two     A    0.635485\n",
       "               B   -0.507431\n",
       "dtype: float64"
      ]
     },
     "execution_count": 2,
     "metadata": {},
     "output_type": "execute_result"
    }
   ],
   "source": [
    "# Save the stacked dataframe df1 as df2\n",
    "df2 = df1.stack()\n",
    "df2"
   ]
  },
  {
   "cell_type": "code",
   "execution_count": 3,
   "id": "5dae69bb",
   "metadata": {
    "ExecuteTime": {
     "end_time": "2022-10-14T02:05:15.116692Z",
     "start_time": "2022-10-14T02:05:15.114138Z"
    }
   },
   "outputs": [
    {
     "data": {
      "text/plain": [
       "MultiIndex([('bar', 'one'),\n",
       "            ('bar', 'two'),\n",
       "            ('baz', 'one'),\n",
       "            ('baz', 'two')],\n",
       "           names=['first', 'second'])"
      ]
     },
     "execution_count": 3,
     "metadata": {},
     "output_type": "execute_result"
    }
   ],
   "source": [
    "df1.index"
   ]
  },
  {
   "cell_type": "code",
   "execution_count": 4,
   "id": "cc4dd87a",
   "metadata": {
    "ExecuteTime": {
     "end_time": "2022-10-14T02:05:15.120211Z",
     "start_time": "2022-10-14T02:05:15.117870Z"
    }
   },
   "outputs": [
    {
     "data": {
      "text/plain": [
       "MultiIndex([('bar', 'one', 'A'),\n",
       "            ('bar', 'one', 'B'),\n",
       "            ('bar', 'two', 'A'),\n",
       "            ('bar', 'two', 'B'),\n",
       "            ('baz', 'one', 'A'),\n",
       "            ('baz', 'one', 'B'),\n",
       "            ('baz', 'two', 'A'),\n",
       "            ('baz', 'two', 'B')],\n",
       "           names=['first', 'second', None])"
      ]
     },
     "execution_count": 4,
     "metadata": {},
     "output_type": "execute_result"
    }
   ],
   "source": [
    "df2.index"
   ]
  },
  {
   "cell_type": "markdown",
   "id": "95d3e762",
   "metadata": {},
   "source": [
    "The `.stack(level=- 1, dropna=True)` returns a reshaped DataFrame or series by stacking the prescribed level(s) from columns to index. In other words, it stacks the labels from column to row or subcategorizes them to the next inner levels . This function is used for hierarchical indexing by adding a new level.\n",
    "\n",
    "In this example,we can see that comparing to `df1`, the index of `df2` changes from 2 to 3."
   ]
  },
  {
   "cell_type": "markdown",
   "id": "3a74260f",
   "metadata": {},
   "source": [
    "### Exercise 2.1.2"
   ]
  },
  {
   "cell_type": "code",
   "execution_count": 5,
   "id": "b3069aac",
   "metadata": {
    "ExecuteTime": {
     "end_time": "2022-10-14T02:05:15.239378Z",
     "start_time": "2022-10-14T02:05:15.234500Z"
    },
    "scrolled": true
   },
   "outputs": [
    {
     "data": {
      "text/html": [
       "<div>\n",
       "<style scoped>\n",
       "    .dataframe tbody tr th:only-of-type {\n",
       "        vertical-align: middle;\n",
       "    }\n",
       "\n",
       "    .dataframe tbody tr th {\n",
       "        vertical-align: top;\n",
       "    }\n",
       "\n",
       "    .dataframe thead th {\n",
       "        text-align: right;\n",
       "    }\n",
       "</style>\n",
       "<table border=\"1\" class=\"dataframe\">\n",
       "  <thead>\n",
       "    <tr style=\"text-align: right;\">\n",
       "      <th></th>\n",
       "      <th></th>\n",
       "      <th>A</th>\n",
       "      <th>B</th>\n",
       "    </tr>\n",
       "    <tr>\n",
       "      <th>first</th>\n",
       "      <th>second</th>\n",
       "      <th></th>\n",
       "      <th></th>\n",
       "    </tr>\n",
       "  </thead>\n",
       "  <tbody>\n",
       "    <tr>\n",
       "      <th rowspan=\"2\" valign=\"top\">bar</th>\n",
       "      <th>one</th>\n",
       "      <td>-0.235900</td>\n",
       "      <td>0.005337</td>\n",
       "    </tr>\n",
       "    <tr>\n",
       "      <th>two</th>\n",
       "      <td>-1.765434</td>\n",
       "      <td>1.731782</td>\n",
       "    </tr>\n",
       "    <tr>\n",
       "      <th rowspan=\"2\" valign=\"top\">baz</th>\n",
       "      <th>one</th>\n",
       "      <td>-0.473665</td>\n",
       "      <td>-0.167856</td>\n",
       "    </tr>\n",
       "    <tr>\n",
       "      <th>two</th>\n",
       "      <td>0.635485</td>\n",
       "      <td>-0.507431</td>\n",
       "    </tr>\n",
       "  </tbody>\n",
       "</table>\n",
       "</div>"
      ],
      "text/plain": [
       "                     A         B\n",
       "first second                    \n",
       "bar   one    -0.235900  0.005337\n",
       "      two    -1.765434  1.731782\n",
       "baz   one    -0.473665 -0.167856\n",
       "      two     0.635485 -0.507431"
      ]
     },
     "execution_count": 5,
     "metadata": {},
     "output_type": "execute_result"
    }
   ],
   "source": [
    "df2.unstack()"
   ]
  },
  {
   "cell_type": "code",
   "execution_count": 6,
   "id": "1df5fe4d",
   "metadata": {
    "ExecuteTime": {
     "end_time": "2022-10-14T02:05:15.243658Z",
     "start_time": "2022-10-14T02:05:15.240530Z"
    }
   },
   "outputs": [
    {
     "data": {
      "text/plain": [
       "MultiIndex([('bar', 'one'),\n",
       "            ('bar', 'two'),\n",
       "            ('baz', 'one'),\n",
       "            ('baz', 'two')],\n",
       "           names=['first', 'second'])"
      ]
     },
     "execution_count": 6,
     "metadata": {},
     "output_type": "execute_result"
    }
   ],
   "source": [
    "df2.unstack().index"
   ]
  },
  {
   "cell_type": "code",
   "execution_count": 7,
   "id": "7e186eb8",
   "metadata": {
    "ExecuteTime": {
     "end_time": "2022-10-14T02:05:15.248291Z",
     "start_time": "2022-10-14T02:05:15.244558Z"
    }
   },
   "outputs": [
    {
     "data": {
      "text/html": [
       "<div>\n",
       "<style scoped>\n",
       "    .dataframe tbody tr th:only-of-type {\n",
       "        vertical-align: middle;\n",
       "    }\n",
       "\n",
       "    .dataframe tbody tr th {\n",
       "        vertical-align: top;\n",
       "    }\n",
       "\n",
       "    .dataframe thead th {\n",
       "        text-align: right;\n",
       "    }\n",
       "</style>\n",
       "<table border=\"1\" class=\"dataframe\">\n",
       "  <thead>\n",
       "    <tr style=\"text-align: right;\">\n",
       "      <th></th>\n",
       "      <th>first</th>\n",
       "      <th>bar</th>\n",
       "      <th>baz</th>\n",
       "    </tr>\n",
       "    <tr>\n",
       "      <th>second</th>\n",
       "      <th></th>\n",
       "      <th></th>\n",
       "      <th></th>\n",
       "    </tr>\n",
       "  </thead>\n",
       "  <tbody>\n",
       "    <tr>\n",
       "      <th rowspan=\"2\" valign=\"top\">one</th>\n",
       "      <th>A</th>\n",
       "      <td>-0.235900</td>\n",
       "      <td>-0.473665</td>\n",
       "    </tr>\n",
       "    <tr>\n",
       "      <th>B</th>\n",
       "      <td>0.005337</td>\n",
       "      <td>-0.167856</td>\n",
       "    </tr>\n",
       "    <tr>\n",
       "      <th rowspan=\"2\" valign=\"top\">two</th>\n",
       "      <th>A</th>\n",
       "      <td>-1.765434</td>\n",
       "      <td>0.635485</td>\n",
       "    </tr>\n",
       "    <tr>\n",
       "      <th>B</th>\n",
       "      <td>1.731782</td>\n",
       "      <td>-0.507431</td>\n",
       "    </tr>\n",
       "  </tbody>\n",
       "</table>\n",
       "</div>"
      ],
      "text/plain": [
       "first          bar       baz\n",
       "second                      \n",
       "one    A -0.235900 -0.473665\n",
       "       B  0.005337 -0.167856\n",
       "two    A -1.765434  0.635485\n",
       "       B  1.731782 -0.507431"
      ]
     },
     "execution_count": 7,
     "metadata": {},
     "output_type": "execute_result"
    }
   ],
   "source": [
    "df2.unstack(0)"
   ]
  },
  {
   "cell_type": "code",
   "execution_count": 8,
   "id": "48c6abe4",
   "metadata": {
    "ExecuteTime": {
     "end_time": "2022-10-14T02:05:15.252112Z",
     "start_time": "2022-10-14T02:05:15.249434Z"
    }
   },
   "outputs": [
    {
     "data": {
      "text/plain": [
       "MultiIndex([('one', 'A'),\n",
       "            ('one', 'B'),\n",
       "            ('two', 'A'),\n",
       "            ('two', 'B')],\n",
       "           names=['second', None])"
      ]
     },
     "execution_count": 8,
     "metadata": {},
     "output_type": "execute_result"
    }
   ],
   "source": [
    "df2.unstack(0).index"
   ]
  },
  {
   "cell_type": "code",
   "execution_count": 9,
   "id": "14230ca4",
   "metadata": {
    "ExecuteTime": {
     "end_time": "2022-10-14T02:05:15.256176Z",
     "start_time": "2022-10-14T02:05:15.252698Z"
    }
   },
   "outputs": [
    {
     "data": {
      "text/html": [
       "<div>\n",
       "<style scoped>\n",
       "    .dataframe tbody tr th:only-of-type {\n",
       "        vertical-align: middle;\n",
       "    }\n",
       "\n",
       "    .dataframe tbody tr th {\n",
       "        vertical-align: top;\n",
       "    }\n",
       "\n",
       "    .dataframe thead th {\n",
       "        text-align: right;\n",
       "    }\n",
       "</style>\n",
       "<table border=\"1\" class=\"dataframe\">\n",
       "  <thead>\n",
       "    <tr style=\"text-align: right;\">\n",
       "      <th></th>\n",
       "      <th>second</th>\n",
       "      <th>one</th>\n",
       "      <th>two</th>\n",
       "    </tr>\n",
       "    <tr>\n",
       "      <th>first</th>\n",
       "      <th></th>\n",
       "      <th></th>\n",
       "      <th></th>\n",
       "    </tr>\n",
       "  </thead>\n",
       "  <tbody>\n",
       "    <tr>\n",
       "      <th rowspan=\"2\" valign=\"top\">bar</th>\n",
       "      <th>A</th>\n",
       "      <td>-0.235900</td>\n",
       "      <td>-1.765434</td>\n",
       "    </tr>\n",
       "    <tr>\n",
       "      <th>B</th>\n",
       "      <td>0.005337</td>\n",
       "      <td>1.731782</td>\n",
       "    </tr>\n",
       "    <tr>\n",
       "      <th rowspan=\"2\" valign=\"top\">baz</th>\n",
       "      <th>A</th>\n",
       "      <td>-0.473665</td>\n",
       "      <td>0.635485</td>\n",
       "    </tr>\n",
       "    <tr>\n",
       "      <th>B</th>\n",
       "      <td>-0.167856</td>\n",
       "      <td>-0.507431</td>\n",
       "    </tr>\n",
       "  </tbody>\n",
       "</table>\n",
       "</div>"
      ],
      "text/plain": [
       "second        one       two\n",
       "first                      \n",
       "bar   A -0.235900 -1.765434\n",
       "      B  0.005337  1.731782\n",
       "baz   A -0.473665  0.635485\n",
       "      B -0.167856 -0.507431"
      ]
     },
     "execution_count": 9,
     "metadata": {},
     "output_type": "execute_result"
    }
   ],
   "source": [
    "df2.unstack(1)"
   ]
  },
  {
   "cell_type": "code",
   "execution_count": 10,
   "id": "d41bae4c",
   "metadata": {
    "ExecuteTime": {
     "end_time": "2022-10-14T02:05:15.259348Z",
     "start_time": "2022-10-14T02:05:15.256962Z"
    }
   },
   "outputs": [
    {
     "data": {
      "text/plain": [
       "MultiIndex([('bar', 'A'),\n",
       "            ('bar', 'B'),\n",
       "            ('baz', 'A'),\n",
       "            ('baz', 'B')],\n",
       "           names=['first', None])"
      ]
     },
     "execution_count": 10,
     "metadata": {},
     "output_type": "execute_result"
    }
   ],
   "source": [
    "df2.unstack(1).index"
   ]
  },
  {
   "cell_type": "markdown",
   "id": "8084a60d",
   "metadata": {},
   "source": [
    "Reversely, the `.unstack(level=- 1, fill_value=None)` converts the dataframe or series into unstacked format. In other words, this function pivots the indexed column.\n",
    "\n",
    "The default `level = -1` pivots the latest inner level.\n",
    "\n",
    "* The initial index of `df2` is: `('bar', 'one', 'A')`. After using `.unstack()`, the index changes to `('bar', 'one')`.\n",
    "\n",
    "`.unstack(1)` pivots the `level = 1` inner level.\n",
    "\n",
    "* After using `.unstack(1)`, the index changes to `('one', 'A')`.\n",
    "\n",
    "`.unstack(0)` pivots the `level = 0` inner level.\n",
    "\n",
    "* After using `.unstack(-)`, the index changes to `('bar', 'one')`.\n"
   ]
  },
  {
   "cell_type": "markdown",
   "id": "0b121e53",
   "metadata": {},
   "source": [
    "__Exercise 2.2 (2 points).__ \n",
    "\n",
    "1. Give three examples of indexing a data frame with `[ ]`, `.loc[ ]`, and `.iloc[ ]`, respectively. Explain how each of these indexing methods is different. \n",
    "2. What do negative indexes (as in `x[-1]` and `x[-2]`) do in Python? Explain what you think negative indexes do. "
   ]
  },
  {
   "cell_type": "markdown",
   "id": "843c9f39",
   "metadata": {},
   "source": [
    "### Exercise 2.2.1"
   ]
  },
  {
   "cell_type": "code",
   "execution_count": 11,
   "id": "9ccbeb50",
   "metadata": {
    "ExecuteTime": {
     "end_time": "2022-10-14T02:05:15.507580Z",
     "start_time": "2022-10-14T02:05:15.502507Z"
    }
   },
   "outputs": [
    {
     "data": {
      "text/plain": [
       "first  second\n",
       "bar    one      -0.235900\n",
       "       two      -1.765434\n",
       "baz    one      -0.473665\n",
       "       two       0.635485\n",
       "Name: A, dtype: float64"
      ]
     },
     "execution_count": 11,
     "metadata": {},
     "output_type": "execute_result"
    }
   ],
   "source": [
    "df1['A'] # it returns column A's data."
   ]
  },
  {
   "cell_type": "code",
   "execution_count": 12,
   "id": "9431b675",
   "metadata": {
    "ExecuteTime": {
     "end_time": "2022-10-14T02:05:15.517329Z",
     "start_time": "2022-10-14T02:05:15.511857Z"
    }
   },
   "outputs": [
    {
     "data": {
      "text/plain": [
       "-0.2358999087066614"
      ]
     },
     "execution_count": 12,
     "metadata": {},
     "output_type": "execute_result"
    }
   ],
   "source": [
    "df1.iloc[0,0]"
   ]
  },
  {
   "cell_type": "code",
   "execution_count": 13,
   "id": "ca8f623a",
   "metadata": {
    "ExecuteTime": {
     "end_time": "2022-10-14T02:05:15.526751Z",
     "start_time": "2022-10-14T02:05:15.519608Z"
    }
   },
   "outputs": [
    {
     "data": {
      "text/html": [
       "<div>\n",
       "<style scoped>\n",
       "    .dataframe tbody tr th:only-of-type {\n",
       "        vertical-align: middle;\n",
       "    }\n",
       "\n",
       "    .dataframe tbody tr th {\n",
       "        vertical-align: top;\n",
       "    }\n",
       "\n",
       "    .dataframe thead th {\n",
       "        text-align: right;\n",
       "    }\n",
       "</style>\n",
       "<table border=\"1\" class=\"dataframe\">\n",
       "  <thead>\n",
       "    <tr style=\"text-align: right;\">\n",
       "      <th></th>\n",
       "      <th>A</th>\n",
       "      <th>B</th>\n",
       "    </tr>\n",
       "    <tr>\n",
       "      <th>second</th>\n",
       "      <th></th>\n",
       "      <th></th>\n",
       "    </tr>\n",
       "  </thead>\n",
       "  <tbody>\n",
       "    <tr>\n",
       "      <th>one</th>\n",
       "      <td>-0.235900</td>\n",
       "      <td>0.005337</td>\n",
       "    </tr>\n",
       "    <tr>\n",
       "      <th>two</th>\n",
       "      <td>-1.765434</td>\n",
       "      <td>1.731782</td>\n",
       "    </tr>\n",
       "  </tbody>\n",
       "</table>\n",
       "</div>"
      ],
      "text/plain": [
       "               A         B\n",
       "second                    \n",
       "one    -0.235900  0.005337\n",
       "two    -1.765434  1.731782"
      ]
     },
     "execution_count": 13,
     "metadata": {},
     "output_type": "execute_result"
    }
   ],
   "source": [
    "df1.loc['bar'] # it returns to the row bar's data."
   ]
  },
  {
   "cell_type": "code",
   "execution_count": 14,
   "id": "67a68a85",
   "metadata": {
    "ExecuteTime": {
     "end_time": "2022-10-14T02:05:15.531196Z",
     "start_time": "2022-10-14T02:05:15.528272Z"
    }
   },
   "outputs": [
    {
     "data": {
      "text/html": [
       "<div>\n",
       "<style scoped>\n",
       "    .dataframe tbody tr th:only-of-type {\n",
       "        vertical-align: middle;\n",
       "    }\n",
       "\n",
       "    .dataframe tbody tr th {\n",
       "        vertical-align: top;\n",
       "    }\n",
       "\n",
       "    .dataframe thead th {\n",
       "        text-align: right;\n",
       "    }\n",
       "</style>\n",
       "<table border=\"1\" class=\"dataframe\">\n",
       "  <thead>\n",
       "    <tr style=\"text-align: right;\">\n",
       "      <th></th>\n",
       "      <th></th>\n",
       "      <th>A</th>\n",
       "      <th>B</th>\n",
       "    </tr>\n",
       "    <tr>\n",
       "      <th>first</th>\n",
       "      <th>second</th>\n",
       "      <th></th>\n",
       "      <th></th>\n",
       "    </tr>\n",
       "  </thead>\n",
       "  <tbody>\n",
       "  </tbody>\n",
       "</table>\n",
       "</div>"
      ],
      "text/plain": [
       "Empty DataFrame\n",
       "Columns: [A, B]\n",
       "Index: []"
      ]
     },
     "execution_count": 14,
     "metadata": {},
     "output_type": "execute_result"
    }
   ],
   "source": [
    "df1.loc[df1['A'] > 1.0] # condition example"
   ]
  },
  {
   "cell_type": "markdown",
   "id": "02521074",
   "metadata": {},
   "source": [
    "`[ ]` is by position, name, or condition.\n",
    "\n",
    "`.iloc[ ]` is by position.\n",
    "\n",
    "`.loc[ ]` is by name or condition"
   ]
  },
  {
   "cell_type": "markdown",
   "id": "5d35a8ac",
   "metadata": {},
   "source": [
    "### Exercise 2.2.2"
   ]
  },
  {
   "cell_type": "markdown",
   "id": "406c6c63",
   "metadata": {},
   "source": [
    "Generally, negative index means indexing from the end of an iterable. It can be used in different data types.\n",
    "\n",
    "Unlike R, python uses zero-based indexing. \n",
    "\n",
    "Example of a list `[1,2,3,4,5,6]`:\n",
    "```python\n",
    "INDEX: | 0 | 1 | 2 | 3 | 4 | 5 |\n",
    "       -------------------------\n",
    "VAL:   | 1 | 2 | 3 | 4 | 5 | 6 |\n",
    "       -------------------------\n",
    "INDEX: | -6 | -5 | -4 | -3 | -2 | -1 |\n",
    "```"
   ]
  },
  {
   "cell_type": "code",
   "execution_count": 15,
   "id": "22780aca",
   "metadata": {
    "ExecuteTime": {
     "end_time": "2022-10-14T02:05:15.770936Z",
     "start_time": "2022-10-14T02:05:15.765548Z"
    }
   },
   "outputs": [
    {
     "name": "stdout",
     "output_type": "stream",
     "text": [
      "x[-1]: 4\n",
      "x[-2]: 3\n"
     ]
    }
   ],
   "source": [
    "# Example 1 - list\n",
    "x = [1,2,3,4]\n",
    "print('x[-1]:', x[-1])\n",
    "print('x[-2]:', x[-2])"
   ]
  },
  {
   "cell_type": "code",
   "execution_count": 16,
   "id": "644ff2f1",
   "metadata": {
    "ExecuteTime": {
     "end_time": "2022-10-14T02:05:15.778029Z",
     "start_time": "2022-10-14T02:05:15.774447Z"
    }
   },
   "outputs": [
    {
     "name": "stdout",
     "output_type": "stream",
     "text": [
      "x[-1]: 3\n",
      "x[-2]: 2\n"
     ]
    }
   ],
   "source": [
    "# Example 2 - tuple\n",
    "x = (1,2,3)\n",
    "print('x[-1]:', x[-1])\n",
    "print('x[-2]:', x[-2])"
   ]
  },
  {
   "cell_type": "code",
   "execution_count": 17,
   "id": "21598edc",
   "metadata": {
    "ExecuteTime": {
     "end_time": "2022-10-14T02:05:15.782574Z",
     "start_time": "2022-10-14T02:05:15.779622Z"
    }
   },
   "outputs": [
    {
     "name": "stdout",
     "output_type": "stream",
     "text": [
      "x[-1]: -\n",
      "x[-2]: c\n"
     ]
    }
   ],
   "source": [
    "# Example 3 - string\n",
    "# It's useful in the process of data preprocessing\n",
    "x = 'abc-'\n",
    "print('x[-1]:', x[-1])\n",
    "print('x[-2]:', x[-2])"
   ]
  },
  {
   "cell_type": "code",
   "execution_count": 18,
   "id": "af264528",
   "metadata": {
    "ExecuteTime": {
     "end_time": "2022-10-14T02:05:15.787970Z",
     "start_time": "2022-10-14T02:05:15.784253Z"
    }
   },
   "outputs": [
    {
     "name": "stdout",
     "output_type": "stream",
     "text": [
      "[[1 2]\n",
      " [3 4]]\n",
      "x[-1]: [3 4]\n",
      "x[-2]: [1 2]\n"
     ]
    }
   ],
   "source": [
    "# Example 4 - numpy array\n",
    "import numpy as np\n",
    "x = np.array([[1, 2], [3, 4]])\n",
    "print(x)\n",
    "print('x[-1]:', x[-1])\n",
    "print('x[-2]:', x[-2])"
   ]
  },
  {
   "cell_type": "code",
   "execution_count": 19,
   "id": "12f330ad",
   "metadata": {
    "ExecuteTime": {
     "end_time": "2022-10-14T02:05:15.791784Z",
     "start_time": "2022-10-14T02:05:15.789405Z"
    }
   },
   "outputs": [
    {
     "data": {
      "text/plain": [
       "A    0.635485\n",
       "B   -0.507431\n",
       "Name: (baz, two), dtype: float64"
      ]
     },
     "execution_count": 19,
     "metadata": {},
     "output_type": "execute_result"
    }
   ],
   "source": [
    "# Example 5 - Dataframe\n",
    "df1.iloc[-1] #the last row of the dataframe"
   ]
  },
  {
   "cell_type": "markdown",
   "id": "1c8c3d94",
   "metadata": {},
   "source": [
    "__Exercise 2.3 (3 points).__ \n",
    "\n",
    "1. Give an example and explain Pandas' data alignment (or index alignment) feature. \n",
    "2. Explain the difference between the similarly-named data frame methods `.reindex()` and `.reset_index()`. Give two examples to show what each method respectively does. \n",
    "3. How might these methods be useful when combined with Pandas' data alignment feature?\n",
    "\n",
    "*Hint: Besides the Pandas documentation, `.reindex()` is explained in Python for Data Analysis 5.2, and `.reset_index()` is explained [here](https://jakevdp.github.io/PythonDataScienceHandbook/03.05-hierarchical-indexing.html#Index-setting-and-resetting).*"
   ]
  },
  {
   "cell_type": "markdown",
   "id": "6b946baa",
   "metadata": {},
   "source": [
    "### Exercise 2.3.1"
   ]
  },
  {
   "cell_type": "code",
   "execution_count": 20,
   "id": "8cc05f3c",
   "metadata": {
    "ExecuteTime": {
     "end_time": "2022-10-14T02:05:15.952019Z",
     "start_time": "2022-10-14T02:05:15.947037Z"
    }
   },
   "outputs": [
    {
     "data": {
      "text/plain": [
       "0    1\n",
       "1    2\n",
       "2    3\n",
       "dtype: int64"
      ]
     },
     "execution_count": 20,
     "metadata": {},
     "output_type": "execute_result"
    }
   ],
   "source": [
    "import pandas as pd\n",
    "# The index is automatically labeled from 0 to N.\n",
    "pd.Series([1, 2, 3])"
   ]
  },
  {
   "cell_type": "code",
   "execution_count": 21,
   "id": "826fafa5",
   "metadata": {
    "ExecuteTime": {
     "end_time": "2022-10-14T02:05:15.960248Z",
     "start_time": "2022-10-14T02:05:15.955275Z"
    },
    "run_control": {
     "marked": false
    }
   },
   "outputs": [
    {
     "name": "stdout",
     "output_type": "stream",
     "text": [
      "a    1\n",
      "b    2\n",
      "c    3\n",
      "dtype: int64 \n",
      "\n",
      "b    1\n",
      "a    2\n",
      "d    3\n",
      "c    1\n",
      "dtype: int64\n"
     ]
    }
   ],
   "source": [
    "# The index is manually labeled by us.\n",
    "x = pd.Series([1, 2, 3], index = [\"a\", \"b\", \"c\"])\n",
    "y = pd.Series([1, 2, 3, 1], index = [\"b\", \"a\", \"d\", \"c\"])\n",
    "print(x,'\\n')\n",
    "print(y)"
   ]
  },
  {
   "cell_type": "code",
   "execution_count": 22,
   "id": "6d9e49f4",
   "metadata": {
    "ExecuteTime": {
     "end_time": "2022-10-14T02:05:15.971612Z",
     "start_time": "2022-10-14T02:05:15.963458Z"
    }
   },
   "outputs": [
    {
     "data": {
      "text/html": [
       "<div>\n",
       "<style scoped>\n",
       "    .dataframe tbody tr th:only-of-type {\n",
       "        vertical-align: middle;\n",
       "    }\n",
       "\n",
       "    .dataframe tbody tr th {\n",
       "        vertical-align: top;\n",
       "    }\n",
       "\n",
       "    .dataframe thead th {\n",
       "        text-align: right;\n",
       "    }\n",
       "</style>\n",
       "<table border=\"1\" class=\"dataframe\">\n",
       "  <thead>\n",
       "    <tr style=\"text-align: right;\">\n",
       "      <th></th>\n",
       "      <th>col1</th>\n",
       "      <th>col2</th>\n",
       "    </tr>\n",
       "  </thead>\n",
       "  <tbody>\n",
       "    <tr>\n",
       "      <th>0</th>\n",
       "      <td>1</td>\n",
       "      <td>3</td>\n",
       "    </tr>\n",
       "    <tr>\n",
       "      <th>1</th>\n",
       "      <td>2</td>\n",
       "      <td>4</td>\n",
       "    </tr>\n",
       "  </tbody>\n",
       "</table>\n",
       "</div>"
      ],
      "text/plain": [
       "   col1  col2\n",
       "0     1     3\n",
       "1     2     4"
      ]
     },
     "execution_count": 22,
     "metadata": {},
     "output_type": "execute_result"
    }
   ],
   "source": [
    "# It also automatically labels dataframe's index\n",
    "d = {'col1': [1, 2], 'col2': [3, 4]}\n",
    "df = pd.DataFrame(data=d)\n",
    "df"
   ]
  },
  {
   "cell_type": "code",
   "execution_count": 23,
   "id": "298bd154",
   "metadata": {
    "ExecuteTime": {
     "end_time": "2022-10-14T02:05:15.975792Z",
     "start_time": "2022-10-14T02:05:15.973129Z"
    }
   },
   "outputs": [
    {
     "data": {
      "text/plain": [
       "a    2.0\n",
       "b    2.0\n",
       "c    3.0\n",
       "d    NaN\n",
       "dtype: float64"
      ]
     },
     "execution_count": 23,
     "metadata": {},
     "output_type": "execute_result"
    }
   ],
   "source": [
    "# Operation feature\n",
    "x*y"
   ]
  },
  {
   "cell_type": "markdown",
   "id": "53d43e05",
   "metadata": {},
   "source": [
    "Pandas automatically aligns labels starting from 0. Pandas supports vectorized operations, but elements are automatically aligned by index. One of the features of data alignment is that operations will be performed on values with the same row and same column label and are aligned by index not by order. In the example of `x*y`, we can see that the values only be multiplied when they having same index. That's why in the index `d`, it appears as `NaN` which is missing values."
   ]
  },
  {
   "cell_type": "markdown",
   "id": "fecac501",
   "metadata": {},
   "source": [
    "### Exercise 2.3.2"
   ]
  },
  {
   "cell_type": "code",
   "execution_count": 24,
   "id": "20b5c5b1",
   "metadata": {
    "ExecuteTime": {
     "end_time": "2022-10-14T02:05:16.164364Z",
     "start_time": "2022-10-14T02:05:16.152541Z"
    },
    "scrolled": true
   },
   "outputs": [
    {
     "name": "stdout",
     "output_type": "stream",
     "text": [
      "After using reindex: \n",
      " a   -0.193475\n",
      "b    0.782026\n",
      "c    0.196673\n",
      "d   -0.660256\n",
      "dtype: float64 \n",
      "\n",
      "After using reindex and add a new index: \n",
      " a   -0.193475\n",
      "b    0.782026\n",
      "c    0.196673\n",
      "d   -0.660256\n",
      "e    0.000000\n",
      "dtype: float64 \n",
      "\n",
      "After using reindex: \n",
      " d   -0.660256\n",
      "b    0.782026\n",
      "c    0.196673\n",
      "a   -0.193475\n",
      "dtype: float64 \n",
      "\n"
     ]
    }
   ],
   "source": [
    "# Example of .reindex()\n",
    "import numpy as np\n",
    "eg = pd.Series(np.random.randn(4), index = list('abcd'))\n",
    "print('After using reindex: \\n', eg,'\\n')\n",
    "eg1 = eg.reindex(['a','b','c','d','e'], fill_value = 0)\n",
    "print('After using reindex and add a new index: \\n', eg1,'\\n')\n",
    "eg2 = eg.reindex(['d','b','c','a'])\n",
    "print('After using reindex: \\n', eg2,'\\n')"
   ]
  },
  {
   "cell_type": "markdown",
   "id": "c1cc00ed",
   "metadata": {},
   "source": [
    "`.reindex()` conforms Series or DataFrame to new index with optional filling logic."
   ]
  },
  {
   "cell_type": "code",
   "execution_count": 25,
   "id": "7b759181",
   "metadata": {
    "ExecuteTime": {
     "end_time": "2022-10-14T02:05:16.253046Z",
     "start_time": "2022-10-14T02:05:16.246226Z"
    }
   },
   "outputs": [
    {
     "data": {
      "text/plain": [
       "0    1\n",
       "1    2\n",
       "2    3\n",
       "3    1\n",
       "dtype: int64"
      ]
     },
     "execution_count": 25,
     "metadata": {},
     "output_type": "execute_result"
    }
   ],
   "source": [
    "# Example of .reset_index(drop=True)\n",
    "y.reset_index(drop = True)"
   ]
  },
  {
   "cell_type": "code",
   "execution_count": 26,
   "id": "b3b5e6f9",
   "metadata": {
    "ExecuteTime": {
     "end_time": "2022-10-14T02:05:16.264378Z",
     "start_time": "2022-10-14T02:05:16.255418Z"
    },
    "scrolled": false
   },
   "outputs": [
    {
     "data": {
      "text/html": [
       "<div>\n",
       "<style scoped>\n",
       "    .dataframe tbody tr th:only-of-type {\n",
       "        vertical-align: middle;\n",
       "    }\n",
       "\n",
       "    .dataframe tbody tr th {\n",
       "        vertical-align: top;\n",
       "    }\n",
       "\n",
       "    .dataframe thead th {\n",
       "        text-align: right;\n",
       "    }\n",
       "</style>\n",
       "<table border=\"1\" class=\"dataframe\">\n",
       "  <thead>\n",
       "    <tr style=\"text-align: right;\">\n",
       "      <th></th>\n",
       "      <th>index</th>\n",
       "      <th>0</th>\n",
       "    </tr>\n",
       "  </thead>\n",
       "  <tbody>\n",
       "    <tr>\n",
       "      <th>0</th>\n",
       "      <td>a</td>\n",
       "      <td>1</td>\n",
       "    </tr>\n",
       "    <tr>\n",
       "      <th>1</th>\n",
       "      <td>b</td>\n",
       "      <td>2</td>\n",
       "    </tr>\n",
       "    <tr>\n",
       "      <th>2</th>\n",
       "      <td>c</td>\n",
       "      <td>3</td>\n",
       "    </tr>\n",
       "  </tbody>\n",
       "</table>\n",
       "</div>"
      ],
      "text/plain": [
       "  index  0\n",
       "0     a  1\n",
       "1     b  2\n",
       "2     c  3"
      ]
     },
     "execution_count": 26,
     "metadata": {},
     "output_type": "execute_result"
    }
   ],
   "source": [
    "# Example of .reset_index()\n",
    "x.reset_index()"
   ]
  },
  {
   "cell_type": "markdown",
   "id": "881731e0",
   "metadata": {},
   "source": [
    "We can use the `.reset_index()` method to reset the indexes on a series or data frame. \n",
    "\n",
    "The difference of two functions is that:\n",
    "\n",
    "* `.reset_index(drop=False)` or `.reset_index(drop=True)` will keep the original index as a new column or it will drop the old index by using the default index. Besides, it can use to rearrange multiindex. \n",
    "\n",
    "* `.reindex()` can also rearrange but only the existed index. A new object is produced unless the new index is equivalent to the current one."
   ]
  },
  {
   "cell_type": "markdown",
   "id": "e74696f9",
   "metadata": {},
   "source": [
    "### Exercise 2.3.3"
   ]
  },
  {
   "cell_type": "markdown",
   "id": "c29ea172",
   "metadata": {
    "run_control": {
     "marked": true
    }
   },
   "source": [
    "Combinding with Pandas' data alignment feature, these methods are useful when manipulating multiple dataframes or doing operations, or merging. \n",
    "\n",
    "The following are some simply applications:"
   ]
  },
  {
   "cell_type": "code",
   "execution_count": 27,
   "id": "c502f67a",
   "metadata": {
    "ExecuteTime": {
     "end_time": "2022-10-14T02:05:16.532283Z",
     "start_time": "2022-10-14T02:05:16.516238Z"
    }
   },
   "outputs": [
    {
     "name": "stdout",
     "output_type": "stream",
     "text": [
      "Before dropping null values: \n",
      "    col1  col2\n",
      "0   1.0   1.0\n",
      "1   2.0   2.0\n",
      "2   NaN   NaN\n",
      "3   3.0   3.0\n",
      "4   4.0   4.0 \n",
      "\n",
      "After dropping null values: \n",
      "    col1  col2\n",
      "0   1.0   1.0\n",
      "1   2.0   2.0\n",
      "3   3.0   3.0\n",
      "4   4.0   4.0 \n",
      "\n",
      "After resetting index: \n",
      "    col1  col2\n",
      "0   1.0   1.0\n",
      "1   2.0   2.0\n",
      "2   3.0   3.0\n",
      "3   4.0   4.0 \n",
      "\n"
     ]
    }
   ],
   "source": [
    "# Example 1: usage of reset_index() after dropping null values\n",
    "from numpy import nan\n",
    "d = {'col1': [1, 2, nan, 3, 4], 'col2': [1, 2, nan, 3, 4]}\n",
    "df = pd.DataFrame(data=d)\n",
    "print('Before dropping null values: \\n', df, '\\n')\n",
    "df = df.dropna()\n",
    "print('After dropping null values: \\n', df, '\\n')\n",
    "df = df.reset_index(drop=True)\n",
    "print('After resetting index: \\n', df, '\\n')"
   ]
  },
  {
   "cell_type": "markdown",
   "id": "0bf6cfba",
   "metadata": {},
   "source": [
    "From the above example, we can see that using `.reset_index()` after dropping null values makes the index more consistent."
   ]
  },
  {
   "cell_type": "code",
   "execution_count": 28,
   "id": "720cd926",
   "metadata": {
    "ExecuteTime": {
     "end_time": "2022-10-14T02:05:16.615016Z",
     "start_time": "2022-10-14T02:05:16.606679Z"
    },
    "scrolled": true
   },
   "outputs": [
    {
     "name": "stdout",
     "output_type": "stream",
     "text": [
      "Before using reindex to drop null values: \n",
      "    col1\n",
      "a   1.0\n",
      "b   2.0\n",
      "c   NaN\n",
      "d   3.0\n",
      "e   4.0\n",
      "f   NaN\n",
      "g   5.0\n",
      "h   6.0 \n",
      "\n",
      "Result: \n",
      "    col1\n",
      "a   1.0\n",
      "b   2.0\n",
      "d   3.0\n",
      "e   4.0\n",
      "g   5.0\n",
      "h   6.0 \n",
      "\n"
     ]
    }
   ],
   "source": [
    "# Example 2 - row: usage of reindex()\n",
    "d = {'col1': [1, 2, nan, 3, 4, nan, 5, 6]}\n",
    "df = pd.DataFrame(data=d, index = list('abcdefgh'))\n",
    "print('Before using reindex to drop null values: \\n', df, '\\n')\n",
    "df = df.reindex(['a','b','d','e','g','h'])\n",
    "print('Result: \\n', df, '\\n')"
   ]
  },
  {
   "cell_type": "markdown",
   "id": "a58c7aec",
   "metadata": {},
   "source": [
    "These two methods are effective if we want to drop or rearrange index, which can make our data more readable and easier to do further operations. The `reset_index()` is extremely useful to reset index when combining multiple dataframes since some functions in Pandas use index as a reference. The `reindex()` is useful for adding new rows/columns with null or specific values. For example, before combining two dataframes, we can use `reindex()` to make sure they have same amount and names of index. Or we can use it to drop specific columns or rows from the dataframe."
   ]
  },
  {
   "cell_type": "markdown",
   "id": "333fd96b",
   "metadata": {},
   "source": [
    "\n",
    "__Exercise 2.4 (2 points).__ Write a function `root` that uses the Newton-Raphson algorithm to compute one of the $p$-th roots for a constant $c$. Your function does not need to find complex roots, only real roots. Your function should have arguments\n",
    "\n",
    "* `c`, the constant\n",
    "* `p`, the power\n",
    "* `x0`, the initial guess\n",
    "* `N`, the maximum number of iterations\n",
    "\n",
    "Test your function for $c = 2$, $p = 2$, $N = 200$. Try different values of $x_0$. Can you find initial guesses to get both roots? Explain what happens when the initial guess is $x_0 = 0$."
   ]
  },
  {
   "cell_type": "code",
   "execution_count": 29,
   "id": "c4552149",
   "metadata": {
    "ExecuteTime": {
     "end_time": "2022-10-14T02:05:16.798268Z",
     "start_time": "2022-10-14T02:05:16.789014Z"
    }
   },
   "outputs": [],
   "source": [
    "from math import isclose\n",
    "\n",
    "def root(c, p, x0, N):\n",
    "    \"\"\"Return a root of f(x) = 0, using Newton's method, starting from\n",
    "    initial guess x0\"\"\"\n",
    "    # Initilization\n",
    "    xn = float(x0)\n",
    "    iterCount = 0\n",
    "    # Using iteration based on User's input N\n",
    "    while iterCount < N + 1:\n",
    "        funValue = xn**p - c # calculte the f(xn) values\n",
    "        primeValue = p*xn**(p - 1) # calculate the f'(xn) values\n",
    "        \n",
    "        # Break the iteration if it the previous xn and next xn are approximatly equal\n",
    "        # REMARK: the rel_tol is highly precise\n",
    "        if isclose(xn, (xn - funValue / primeValue), rel_tol=1e-9): \n",
    "            break\n",
    "        else:\n",
    "            xn = xn - funValue / primeValue # Apply the Newton-Raphson algorithm formula\n",
    "        iterCount += 1\n",
    "    return xn"
   ]
  },
  {
   "cell_type": "code",
   "execution_count": 33,
   "id": "6a7d6c84",
   "metadata": {
    "ExecuteTime": {
     "end_time": "2022-10-14T02:09:48.066587Z",
     "start_time": "2022-10-14T02:09:48.060300Z"
    }
   },
   "outputs": [
    {
     "data": {
      "text/plain": [
       "1.2599210498953948"
      ]
     },
     "execution_count": 33,
     "metadata": {},
     "output_type": "execute_result"
    }
   ],
   "source": [
    "# Root 1\n",
    "root(2, 2, 2, 200)"
   ]
  },
  {
   "cell_type": "code",
   "execution_count": 36,
   "id": "f3ee5d54",
   "metadata": {
    "ExecuteTime": {
     "end_time": "2022-10-14T02:10:02.060370Z",
     "start_time": "2022-10-14T02:10:02.056723Z"
    }
   },
   "outputs": [
    {
     "data": {
      "text/plain": [
       "1.2599210498948885"
      ]
     },
     "execution_count": 36,
     "metadata": {},
     "output_type": "execute_result"
    }
   ],
   "source": [
    "# Root 2\n",
    "root(2, 2, -2, 200)"
   ]
  },
  {
   "cell_type": "code",
   "execution_count": 32,
   "id": "9aa178dd",
   "metadata": {
    "ExecuteTime": {
     "end_time": "2022-10-14T02:05:17.031968Z",
     "start_time": "2022-10-14T02:05:16.811478Z"
    }
   },
   "outputs": [
    {
     "ename": "ZeroDivisionError",
     "evalue": "float division by zero",
     "output_type": "error",
     "traceback": [
      "\u001b[0;31m---------------------------------------------------------------------------\u001b[0m",
      "\u001b[0;31mZeroDivisionError\u001b[0m                         Traceback (most recent call last)",
      "Input \u001b[0;32mIn [32]\u001b[0m, in \u001b[0;36m<module>\u001b[0;34m\u001b[0m\n\u001b[1;32m      1\u001b[0m \u001b[38;5;66;03m# xn = 0\u001b[39;00m\n\u001b[0;32m----> 2\u001b[0m \u001b[43mroot\u001b[49m\u001b[43m(\u001b[49m\u001b[38;5;241;43m2\u001b[39;49m\u001b[43m,\u001b[49m\u001b[43m \u001b[49m\u001b[38;5;241;43m2\u001b[39;49m\u001b[43m,\u001b[49m\u001b[43m \u001b[49m\u001b[38;5;241;43m0\u001b[39;49m\u001b[43m,\u001b[49m\u001b[43m \u001b[49m\u001b[38;5;241;43m200\u001b[39;49m\u001b[43m)\u001b[49m\n",
      "Input \u001b[0;32mIn [29]\u001b[0m, in \u001b[0;36mroot\u001b[0;34m(c, p, x0, N)\u001b[0m\n\u001b[1;32m     12\u001b[0m primeValue \u001b[38;5;241m=\u001b[39m p\u001b[38;5;241m*\u001b[39mxn\u001b[38;5;241m*\u001b[39m\u001b[38;5;241m*\u001b[39m(p \u001b[38;5;241m-\u001b[39m \u001b[38;5;241m1\u001b[39m) \u001b[38;5;66;03m# calculate the f'(xn) values\u001b[39;00m\n\u001b[1;32m     14\u001b[0m \u001b[38;5;66;03m# Break the iteration if it the previous xn and next xn are approximatly equal\u001b[39;00m\n\u001b[1;32m     15\u001b[0m \u001b[38;5;66;03m# REMARK: the rel_tol is highly precise\u001b[39;00m\n\u001b[0;32m---> 16\u001b[0m \u001b[38;5;28;01mif\u001b[39;00m isclose(xn, (xn \u001b[38;5;241m-\u001b[39m \u001b[43mfunValue\u001b[49m\u001b[43m \u001b[49m\u001b[38;5;241;43m/\u001b[39;49m\u001b[43m \u001b[49m\u001b[43mprimeValue\u001b[49m), rel_tol\u001b[38;5;241m=\u001b[39m\u001b[38;5;241m1e-9\u001b[39m): \n\u001b[1;32m     17\u001b[0m     \u001b[38;5;28;01mbreak\u001b[39;00m\n\u001b[1;32m     18\u001b[0m \u001b[38;5;28;01melse\u001b[39;00m:\n",
      "\u001b[0;31mZeroDivisionError\u001b[0m: float division by zero"
     ]
    }
   ],
   "source": [
    "# xn = 0\n",
    "root(2, 2, 0, 200)"
   ]
  },
  {
   "cell_type": "markdown",
   "id": "ddd1f85c",
   "metadata": {},
   "source": [
    "When the initial guess is 0, it will has the `ZeroDivisionError: float division by zero` error because it will cause the denominator be 0 when calculating the next guessed root. To solve it, we can update our code by using `try` and `except` and change the value of `x0`.\n"
   ]
  }
 ],
 "metadata": {
  "kernelspec": {
   "display_name": "Python 3 (ipykernel)",
   "language": "python",
   "name": "python3"
  },
  "language_info": {
   "codemirror_mode": {
    "name": "ipython",
    "version": 3
   },
   "file_extension": ".py",
   "mimetype": "text/x-python",
   "name": "python",
   "nbconvert_exporter": "python",
   "pygments_lexer": "ipython3",
   "version": "3.10.1"
  },
  "latex_envs": {
   "LaTeX_envs_menu_present": true,
   "autoclose": false,
   "autocomplete": true,
   "bibliofile": "biblio.bib",
   "cite_by": "apalike",
   "current_citInitial": 1,
   "eqLabelWithNumbers": true,
   "eqNumInitial": 1,
   "hotkeys": {
    "equation": "Ctrl-E",
    "itemize": "Ctrl-I"
   },
   "labels_anchors": false,
   "latex_user_defs": false,
   "report_style_numbering": false,
   "user_envs_cfg": false
  },
  "toc": {
   "base_numbering": 1,
   "nav_menu": {},
   "number_sections": false,
   "sideBar": true,
   "skip_h1_title": true,
   "title_cell": "Table of Contents",
   "title_sidebar": "Contents",
   "toc_cell": true,
   "toc_position": {},
   "toc_section_display": true,
   "toc_window_display": false
  },
  "varInspector": {
   "cols": {
    "lenName": 16,
    "lenType": 16,
    "lenVar": 40
   },
   "kernels_config": {
    "python": {
     "delete_cmd_postfix": "",
     "delete_cmd_prefix": "del ",
     "library": "var_list.py",
     "varRefreshCmd": "print(var_dic_list())"
    },
    "r": {
     "delete_cmd_postfix": ") ",
     "delete_cmd_prefix": "rm(",
     "library": "var_list.r",
     "varRefreshCmd": "cat(var_dic_list()) "
    }
   },
   "types_to_exclude": [
    "module",
    "function",
    "builtin_function_or_method",
    "instance",
    "_Feature"
   ],
   "window_display": false
  }
 },
 "nbformat": 4,
 "nbformat_minor": 5
}
