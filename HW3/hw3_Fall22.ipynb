{
 "cells": [
  {
   "cell_type": "markdown",
   "metadata": {
    "slideshow": {
     "slide_type": "slide"
    }
   },
   "source": [
    "# STA 141B Assignment 3\n",
    "\n",
    "Due __Oct 20, 2022__ by 11:59pm. \n",
    "\n",
    "Please rename this file with __\"LastName_FirstName_hw3\"__ \n",
    "\n",
    "Notes: \n",
    "\n",
    "1. Please do not rename this file or delete the exercise cells. Put your answers in new cells after each exercise. You can make as many new cells as you like. Use code cells for code and Markdown cells for text. Answer all questions with complete sentences.\n",
    "\n",
    "2. Your code should be readable; writing a piece of code should be compared to writing a page of a book. Adopt the __one-statement-per-line__ rule. Consider splitting a lengthy statement into multiple lines to improve readability. (You will lose one point for each line that does not follow the one-statement-per-line rule)\n",
    "\n",
    "3. To help understand and maintain code, you should always add comments to explain your code. Use the _hash symbol_ (#) for writing a comment (homework without any comments will automatically receive 0 points). Use _docstring_ to explain a function\n",
    "\n",
    "4. Submit your final work with a __.pdf__ or a __.html__ file to Canvas. To convert a .ipynb file to a .pdf/.html file, go to \"File\", click \"Download as\", and then click \"PDF via LaTeX\"/\"HTML\". \n",
    "\n",
    "5. This assignment will be graded for correctness.\n"
   ]
  },
  {
   "cell_type": "markdown",
   "metadata": {
    "slideshow": {
     "slide_type": "slide"
    }
   },
   "source": [
    "### Part 1: Read in the 'county_age_dist.csv' data and answer the next four questions.\n",
    "\n",
    "__Exercise 3.1 (1 points).__ Cast the 'fips' column as a string such that it is a length 5 string of digits that starts with 0 if it is currently of length 4.  Yolo county for example is '06113'.  This is the age distribution of each county in the US (with territories), you may notice that the total population is unusually large, please ignore this."
   ]
  },
  {
   "cell_type": "markdown",
   "metadata": {
    "slideshow": {
     "slide_type": "slide"
    }
   },
   "source": [
    "__Exercise 3.2 (2 points).__ Create a population column which is the sum of the age counts for all age bins.  For each age bin create a column which is proportion of the age bin in the county populations, so for example '0-17_rat' is the ratio of '0-17' to the whole population for the county.  Print out the FIPS code for the county with the largest proportion of 25-34 year olds? What is the FIPS code for the county with the smallest proportion of 85+ year olds?"
   ]
  },
  {
   "cell_type": "markdown",
   "metadata": {
    "slideshow": {
     "slide_type": "slide"
    }
   },
   "source": [
    "__Exercise 3.3 (1 points).__ What is the overall proportion of each age bin within the entire US.  You need to find the total number of each age bin across all counties and take the ratio with the total population."
   ]
  },
  {
   "cell_type": "markdown",
   "metadata": {
    "slideshow": {
     "slide_type": "slide"
    }
   },
   "source": [
    "__Exercise 3.4 (2 points).__ Create a new column that contains the mode of the age bins (the age bin with the largest proportion in the county. For example, the mode of FIPS 01001 is '0-17').  Print out the proportions of the modes over all counties in the US, so that the proportion of '0-17' is the percentage of the counties that have '0-17' as the largest age bin for that county."
   ]
  },
  {
   "cell_type": "markdown",
   "metadata": {},
   "source": [
    "### Part 2. Read in the 'county_fips_master.csv'' data and answer the next two questions\n",
    "\n",
    "__Exercise 3.5 (2 points).__ Join this dataset to the county age dataframe constructed above such that there is one row for every county in the new dataframe from county_fips_master. Are there any missing entries? If so how many counties have missingness?"
   ]
  },
  {
   "cell_type": "markdown",
   "metadata": {},
   "source": [
    "__Exercise 3.6 (2 points)__ Drop any rows with missingness.  For each state calculate the proportion of each age bin as you did for the entire US in the question above.  What is the state with the most 18-24 proportion?  Give the proportions."
   ]
  }
 ],
 "metadata": {
  "celltoolbar": "Slideshow",
  "kernelspec": {
   "display_name": "Python 3 (ipykernel)",
   "language": "python",
   "name": "python3"
  },
  "language_info": {
   "codemirror_mode": {
    "name": "ipython",
    "version": 3
   },
   "file_extension": ".py",
   "mimetype": "text/x-python",
   "name": "python",
   "nbconvert_exporter": "python",
   "pygments_lexer": "ipython3",
   "version": "3.10.1"
  },
  "latex_envs": {
   "LaTeX_envs_menu_present": true,
   "autoclose": false,
   "autocomplete": true,
   "bibliofile": "biblio.bib",
   "cite_by": "apalike",
   "current_citInitial": 1,
   "eqLabelWithNumbers": true,
   "eqNumInitial": 1,
   "hotkeys": {
    "equation": "Ctrl-E",
    "itemize": "Ctrl-I"
   },
   "labels_anchors": false,
   "latex_user_defs": false,
   "report_style_numbering": false,
   "user_envs_cfg": false
  },
  "toc": {
   "base_numbering": 1,
   "nav_menu": {},
   "number_sections": false,
   "sideBar": true,
   "skip_h1_title": true,
   "title_cell": "Table of Contents",
   "title_sidebar": "Contents",
   "toc_cell": false,
   "toc_position": {},
   "toc_section_display": true,
   "toc_window_display": false
  },
  "varInspector": {
   "cols": {
    "lenName": 16,
    "lenType": 16,
    "lenVar": 40
   },
   "kernels_config": {
    "python": {
     "delete_cmd_postfix": "",
     "delete_cmd_prefix": "del ",
     "library": "var_list.py",
     "varRefreshCmd": "print(var_dic_list())"
    },
    "r": {
     "delete_cmd_postfix": ") ",
     "delete_cmd_prefix": "rm(",
     "library": "var_list.r",
     "varRefreshCmd": "cat(var_dic_list()) "
    }
   },
   "types_to_exclude": [
    "module",
    "function",
    "builtin_function_or_method",
    "instance",
    "_Feature"
   ],
   "window_display": false
  }
 },
 "nbformat": 4,
 "nbformat_minor": 2
}
