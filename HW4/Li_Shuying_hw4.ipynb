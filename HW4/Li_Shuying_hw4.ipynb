{
 "cells": [
  {
   "cell_type": "markdown",
   "id": "3a56088e",
   "metadata": {},
   "source": [
    "# STA 141B Assignment 4\n",
    "## Part I: Covid Data\n",
    "\n",
    "### Exercise 4.1\n",
    "\n",
    "In this part, we will be using the the covidcast api, and you can find [the documentation here](https://cmu-delphi.github.io/delphi-epidata/).  We will be using the http api and you __should not__ use the `covidcast` python package.  Even though it is available, I want to test you on using the requests package and making http requests directly.\n",
    "\n",
    "**Exercise 4.1.** Request the value for the smoothed_cli signal from the fb-survey datasource on 2022-01-01 for ALL STATES.  Notice that the request below is for counties and so you need to change this to states.  Do the same for smoothed_hh_cmnty_cli signal from the fb-survey data, and the confirmed_7dav_incidence_prop signal from the jhu-csse data source.  Create dataframes from these and join these 3 variables based on the state into a single dataframe.  Drop rows with missingness (there should be only about 5 of them dropped this way, corresponding to the US territories).  Finally, compute and output the spearman correlation between all variables in this dataframe (there should be 51 rows in the new dataset). "
   ]
  },
  {
   "cell_type": "markdown",
   "id": "89b97b4a",
   "metadata": {},
   "source": [
    "* `smoothed_cli signal` from the `fb-survey` data source\n",
    "* `smoothed_hh_cmnty_cli` signal from the `fb-survey` data source\n",
    "* `confirmed_7dav_incidence_prop` signal from `the jhu-csse` data source"
   ]
  },
  {
   "cell_type": "code",
   "execution_count": 1,
   "id": "994de16f",
   "metadata": {
    "ExecuteTime": {
     "end_time": "2022-10-27T01:42:09.723135Z",
     "start_time": "2022-10-27T01:42:08.888476Z"
    }
   },
   "outputs": [],
   "source": [
    "# Load required packages\n",
    "import requests\n",
    "import json\n",
    "import time\n",
    "# Use progress bar to check progress in Exercise 4.2\n",
    "from tqdm.notebook import tqdm \n",
    "import pandas as pd\n",
    "import numpy as np\n",
    "import seaborn as sns\n",
    "import matplotlib.pyplot as plt"
   ]
  },
  {
   "cell_type": "code",
   "execution_count": 2,
   "id": "77b6151d",
   "metadata": {
    "ExecuteTime": {
     "end_time": "2022-10-27T01:42:09.726695Z",
     "start_time": "2022-10-27T01:42:09.724232Z"
    }
   },
   "outputs": [],
   "source": [
    "# Write a function to return a dataframe based on the data_source and signal\n",
    "def api_fbi(data_source, signal, time_values = '20220101'):\n",
    "    \"\"\"Return a dataframe based on data_source, signal, and time_values\n",
    "    \n",
    "    Client -----Get(url)-----> Server\n",
    "    \"\"\"\n",
    "    #Make a request to a web page with parameters\n",
    "    response = requests.get(\"https://api.covidcast.cmu.edu/epidata/api.php\", \n",
    "                            params = {'endpoint':'covidcast', 'data_source': data_source,\n",
    "                                      'signal': signal,'time_type':'day',\n",
    "                                      'geo_type':'state', 'time_values':time_values, 'geo_value':'*'})\n",
    "    #decode the result to dict\n",
    "    result = response.json()\n",
    "    \"\"\"\n",
    "    In the dict data: dict_keys(['epidata', 'result', 'message']\n",
    "    The key 'epidata' stores the main data\n",
    "    \"\"\"\n",
    "    key_dict = list(result.keys())[0]\n",
    "    # Convert the dict data to dataframe\n",
    "    results = pd.DataFrame(result[key_dict])\n",
    "    return results"
   ]
  },
  {
   "cell_type": "code",
   "execution_count": 3,
   "id": "c7dc295e",
   "metadata": {
    "ExecuteTime": {
     "end_time": "2022-10-27T01:42:10.317725Z",
     "start_time": "2022-10-27T01:42:09.727474Z"
    }
   },
   "outputs": [
    {
     "data": {
      "text/html": [
       "<div>\n",
       "<style scoped>\n",
       "    .dataframe tbody tr th:only-of-type {\n",
       "        vertical-align: middle;\n",
       "    }\n",
       "\n",
       "    .dataframe tbody tr th {\n",
       "        vertical-align: top;\n",
       "    }\n",
       "\n",
       "    .dataframe thead th {\n",
       "        text-align: right;\n",
       "    }\n",
       "</style>\n",
       "<table border=\"1\" class=\"dataframe\">\n",
       "  <thead>\n",
       "    <tr style=\"text-align: right;\">\n",
       "      <th></th>\n",
       "      <th>value</th>\n",
       "    </tr>\n",
       "    <tr>\n",
       "      <th>geo_value</th>\n",
       "      <th></th>\n",
       "    </tr>\n",
       "  </thead>\n",
       "  <tbody>\n",
       "    <tr>\n",
       "      <th>ak</th>\n",
       "      <td>1.988426</td>\n",
       "    </tr>\n",
       "    <tr>\n",
       "      <th>al</th>\n",
       "      <td>4.107746</td>\n",
       "    </tr>\n",
       "    <tr>\n",
       "      <th>ar</th>\n",
       "      <td>2.533740</td>\n",
       "    </tr>\n",
       "    <tr>\n",
       "      <th>az</th>\n",
       "      <td>2.694759</td>\n",
       "    </tr>\n",
       "    <tr>\n",
       "      <th>ca</th>\n",
       "      <td>2.357308</td>\n",
       "    </tr>\n",
       "  </tbody>\n",
       "</table>\n",
       "</div>"
      ],
      "text/plain": [
       "              value\n",
       "geo_value          \n",
       "ak         1.988426\n",
       "al         4.107746\n",
       "ar         2.533740\n",
       "az         2.694759\n",
       "ca         2.357308"
      ]
     },
     "execution_count": 3,
     "metadata": {},
     "output_type": "execute_result"
    }
   ],
   "source": [
    "# smoothed_cli signal from the fb-survey data source\n",
    "df1 = api_fbi('fb-survey', 'smoothed_cli')[['geo_value','value']].set_index('geo_value')\n",
    "df1.head()"
   ]
  },
  {
   "cell_type": "code",
   "execution_count": 4,
   "id": "566d1a86",
   "metadata": {
    "ExecuteTime": {
     "end_time": "2022-10-27T01:42:10.967376Z",
     "start_time": "2022-10-27T01:42:10.320946Z"
    }
   },
   "outputs": [
    {
     "data": {
      "text/html": [
       "<div>\n",
       "<style scoped>\n",
       "    .dataframe tbody tr th:only-of-type {\n",
       "        vertical-align: middle;\n",
       "    }\n",
       "\n",
       "    .dataframe tbody tr th {\n",
       "        vertical-align: top;\n",
       "    }\n",
       "\n",
       "    .dataframe thead th {\n",
       "        text-align: right;\n",
       "    }\n",
       "</style>\n",
       "<table border=\"1\" class=\"dataframe\">\n",
       "  <thead>\n",
       "    <tr style=\"text-align: right;\">\n",
       "      <th></th>\n",
       "      <th>value</th>\n",
       "    </tr>\n",
       "    <tr>\n",
       "      <th>geo_value</th>\n",
       "      <th></th>\n",
       "    </tr>\n",
       "  </thead>\n",
       "  <tbody>\n",
       "    <tr>\n",
       "      <th>ak</th>\n",
       "      <td>26.718404</td>\n",
       "    </tr>\n",
       "    <tr>\n",
       "      <th>al</th>\n",
       "      <td>36.076034</td>\n",
       "    </tr>\n",
       "    <tr>\n",
       "      <th>ar</th>\n",
       "      <td>34.849508</td>\n",
       "    </tr>\n",
       "    <tr>\n",
       "      <th>az</th>\n",
       "      <td>31.895911</td>\n",
       "    </tr>\n",
       "    <tr>\n",
       "      <th>ca</th>\n",
       "      <td>29.062623</td>\n",
       "    </tr>\n",
       "  </tbody>\n",
       "</table>\n",
       "</div>"
      ],
      "text/plain": [
       "               value\n",
       "geo_value           \n",
       "ak         26.718404\n",
       "al         36.076034\n",
       "ar         34.849508\n",
       "az         31.895911\n",
       "ca         29.062623"
      ]
     },
     "execution_count": 4,
     "metadata": {},
     "output_type": "execute_result"
    }
   ],
   "source": [
    "# smoothed_hh_cmnty_cli signal from the fb-survey data source\n",
    "df2 = api_fbi('fb-survey','smoothed_hh_cmnty_cli')[['geo_value','value']].set_index('geo_value')\n",
    "df2.head()"
   ]
  },
  {
   "cell_type": "code",
   "execution_count": 5,
   "id": "df9b768a",
   "metadata": {
    "ExecuteTime": {
     "end_time": "2022-10-27T01:42:11.658398Z",
     "start_time": "2022-10-27T01:42:10.969601Z"
    }
   },
   "outputs": [
    {
     "data": {
      "text/html": [
       "<div>\n",
       "<style scoped>\n",
       "    .dataframe tbody tr th:only-of-type {\n",
       "        vertical-align: middle;\n",
       "    }\n",
       "\n",
       "    .dataframe tbody tr th {\n",
       "        vertical-align: top;\n",
       "    }\n",
       "\n",
       "    .dataframe thead th {\n",
       "        text-align: right;\n",
       "    }\n",
       "</style>\n",
       "<table border=\"1\" class=\"dataframe\">\n",
       "  <thead>\n",
       "    <tr style=\"text-align: right;\">\n",
       "      <th></th>\n",
       "      <th>value</th>\n",
       "    </tr>\n",
       "    <tr>\n",
       "      <th>geo_value</th>\n",
       "      <th></th>\n",
       "    </tr>\n",
       "  </thead>\n",
       "  <tbody>\n",
       "    <tr>\n",
       "      <th>ak</th>\n",
       "      <td>36.365002</td>\n",
       "    </tr>\n",
       "    <tr>\n",
       "      <th>al</th>\n",
       "      <td>82.811032</td>\n",
       "    </tr>\n",
       "    <tr>\n",
       "      <th>ar</th>\n",
       "      <td>97.342966</td>\n",
       "    </tr>\n",
       "    <tr>\n",
       "      <th>as</th>\n",
       "      <td>0.000000</td>\n",
       "    </tr>\n",
       "    <tr>\n",
       "      <th>az</th>\n",
       "      <td>67.372724</td>\n",
       "    </tr>\n",
       "  </tbody>\n",
       "</table>\n",
       "</div>"
      ],
      "text/plain": [
       "               value\n",
       "geo_value           \n",
       "ak         36.365002\n",
       "al         82.811032\n",
       "ar         97.342966\n",
       "as          0.000000\n",
       "az         67.372724"
      ]
     },
     "execution_count": 5,
     "metadata": {},
     "output_type": "execute_result"
    }
   ],
   "source": [
    "# confirmed_7dav_incidence_prop signal from the jhu-csse\n",
    "df3 = api_fbi('jhu-csse','confirmed_7dav_incidence_prop')[['geo_value','value']].set_index('geo_value')\n",
    "df3.head()"
   ]
  },
  {
   "cell_type": "markdown",
   "id": "61b64c37",
   "metadata": {},
   "source": [
    "**Drop rows with missingness (there should be only about 5 of them dropped this way, corresponding to the US territories).**"
   ]
  },
  {
   "cell_type": "code",
   "execution_count": 6,
   "id": "5e859b4c",
   "metadata": {
    "ExecuteTime": {
     "end_time": "2022-10-27T01:42:11.667051Z",
     "start_time": "2022-10-27T01:42:11.660354Z"
    }
   },
   "outputs": [
    {
     "name": "stdout",
     "output_type": "stream",
     "text": [
      "Check #rows: (56, 3)\n",
      "After dropping null values, check #rows: (51, 3)\n"
     ]
    }
   ],
   "source": [
    "# Join three dataframe\n",
    "df = pd.concat([df1,df2,df3], axis=1)\n",
    "print('Check #rows:',df.shape)\n",
    "# Drop null values\n",
    "df = df.dropna()\n",
    "print('After dropping null values, check #rows:',df.shape)"
   ]
  },
  {
   "cell_type": "markdown",
   "id": "f74a14af",
   "metadata": {},
   "source": [
    "**Finally, compute and output the spearman correlation between all variables in this dataframe (there should be 51 rows in the new dataset).**"
   ]
  },
  {
   "cell_type": "code",
   "execution_count": 7,
   "id": "7638b855",
   "metadata": {
    "ExecuteTime": {
     "end_time": "2022-10-27T01:42:11.680387Z",
     "start_time": "2022-10-27T01:42:11.668837Z"
    }
   },
   "outputs": [
    {
     "data": {
      "text/html": [
       "<div>\n",
       "<style scoped>\n",
       "    .dataframe tbody tr th:only-of-type {\n",
       "        vertical-align: middle;\n",
       "    }\n",
       "\n",
       "    .dataframe tbody tr th {\n",
       "        vertical-align: top;\n",
       "    }\n",
       "\n",
       "    .dataframe thead tr th {\n",
       "        text-align: left;\n",
       "    }\n",
       "\n",
       "    .dataframe thead tr:last-of-type th {\n",
       "        text-align: right;\n",
       "    }\n",
       "</style>\n",
       "<table border=\"1\" class=\"dataframe\">\n",
       "  <thead>\n",
       "    <tr>\n",
       "      <th></th>\n",
       "      <th>smoothed_cli</th>\n",
       "      <th>smoothed_hh_cmnty_cli</th>\n",
       "      <th>confirmed_7dav_incidence_prop</th>\n",
       "    </tr>\n",
       "    <tr>\n",
       "      <th>geo_value</th>\n",
       "      <th></th>\n",
       "      <th></th>\n",
       "      <th></th>\n",
       "    </tr>\n",
       "  </thead>\n",
       "  <tbody>\n",
       "    <tr>\n",
       "      <th>ak</th>\n",
       "      <td>1.988426</td>\n",
       "      <td>26.718404</td>\n",
       "      <td>36.365002</td>\n",
       "    </tr>\n",
       "    <tr>\n",
       "      <th>al</th>\n",
       "      <td>4.107746</td>\n",
       "      <td>36.076034</td>\n",
       "      <td>82.811032</td>\n",
       "    </tr>\n",
       "    <tr>\n",
       "      <th>ar</th>\n",
       "      <td>2.533740</td>\n",
       "      <td>34.849508</td>\n",
       "      <td>97.342966</td>\n",
       "    </tr>\n",
       "    <tr>\n",
       "      <th>az</th>\n",
       "      <td>2.694759</td>\n",
       "      <td>31.895911</td>\n",
       "      <td>67.372724</td>\n",
       "    </tr>\n",
       "    <tr>\n",
       "      <th>ca</th>\n",
       "      <td>2.357308</td>\n",
       "      <td>29.062623</td>\n",
       "      <td>84.714756</td>\n",
       "    </tr>\n",
       "    <tr>\n",
       "      <th>co</th>\n",
       "      <td>3.208922</td>\n",
       "      <td>38.293050</td>\n",
       "      <td>201.896329</td>\n",
       "    </tr>\n",
       "    <tr>\n",
       "      <th>ct</th>\n",
       "      <td>4.462179</td>\n",
       "      <td>43.893939</td>\n",
       "      <td>143.101891</td>\n",
       "    </tr>\n",
       "    <tr>\n",
       "      <th>dc</th>\n",
       "      <td>4.347457</td>\n",
       "      <td>35.377358</td>\n",
       "      <td>295.027048</td>\n",
       "    </tr>\n",
       "    <tr>\n",
       "      <th>de</th>\n",
       "      <td>3.527615</td>\n",
       "      <td>39.746193</td>\n",
       "      <td>178.309220</td>\n",
       "    </tr>\n",
       "    <tr>\n",
       "      <th>fl</th>\n",
       "      <td>3.966940</td>\n",
       "      <td>34.692345</td>\n",
       "      <td>198.627934</td>\n",
       "    </tr>\n",
       "    <tr>\n",
       "      <th>ga</th>\n",
       "      <td>4.674997</td>\n",
       "      <td>43.604375</td>\n",
       "      <td>141.761813</td>\n",
       "    </tr>\n",
       "    <tr>\n",
       "      <th>hi</th>\n",
       "      <td>1.479807</td>\n",
       "      <td>30.054274</td>\n",
       "      <td>156.949275</td>\n",
       "    </tr>\n",
       "    <tr>\n",
       "      <th>ia</th>\n",
       "      <td>3.571186</td>\n",
       "      <td>34.649496</td>\n",
       "      <td>52.138352</td>\n",
       "    </tr>\n",
       "    <tr>\n",
       "      <th>id</th>\n",
       "      <td>2.597932</td>\n",
       "      <td>30.890673</td>\n",
       "      <td>28.588428</td>\n",
       "    </tr>\n",
       "    <tr>\n",
       "      <th>il</th>\n",
       "      <td>3.758624</td>\n",
       "      <td>43.691680</td>\n",
       "      <td>145.556753</td>\n",
       "    </tr>\n",
       "    <tr>\n",
       "      <th>in</th>\n",
       "      <td>3.589440</td>\n",
       "      <td>41.839739</td>\n",
       "      <td>97.130844</td>\n",
       "    </tr>\n",
       "    <tr>\n",
       "      <th>ks</th>\n",
       "      <td>3.516681</td>\n",
       "      <td>38.640400</td>\n",
       "      <td>68.682898</td>\n",
       "    </tr>\n",
       "    <tr>\n",
       "      <th>ky</th>\n",
       "      <td>3.048790</td>\n",
       "      <td>37.838539</td>\n",
       "      <td>62.870211</td>\n",
       "    </tr>\n",
       "    <tr>\n",
       "      <th>la</th>\n",
       "      <td>5.277630</td>\n",
       "      <td>43.678713</td>\n",
       "      <td>117.851381</td>\n",
       "    </tr>\n",
       "    <tr>\n",
       "      <th>ma</th>\n",
       "      <td>3.268883</td>\n",
       "      <td>39.893918</td>\n",
       "      <td>176.344355</td>\n",
       "    </tr>\n",
       "    <tr>\n",
       "      <th>md</th>\n",
       "      <td>4.124256</td>\n",
       "      <td>44.394312</td>\n",
       "      <td>176.053123</td>\n",
       "    </tr>\n",
       "    <tr>\n",
       "      <th>me</th>\n",
       "      <td>2.066833</td>\n",
       "      <td>30.973130</td>\n",
       "      <td>52.438967</td>\n",
       "    </tr>\n",
       "    <tr>\n",
       "      <th>mi</th>\n",
       "      <td>2.726807</td>\n",
       "      <td>37.142181</td>\n",
       "      <td>92.459230</td>\n",
       "    </tr>\n",
       "    <tr>\n",
       "      <th>mn</th>\n",
       "      <td>2.962201</td>\n",
       "      <td>32.848129</td>\n",
       "      <td>65.623953</td>\n",
       "    </tr>\n",
       "    <tr>\n",
       "      <th>mo</th>\n",
       "      <td>3.102227</td>\n",
       "      <td>38.944373</td>\n",
       "      <td>75.788124</td>\n",
       "    </tr>\n",
       "    <tr>\n",
       "      <th>ms</th>\n",
       "      <td>5.022875</td>\n",
       "      <td>40.099449</td>\n",
       "      <td>87.805457</td>\n",
       "    </tr>\n",
       "    <tr>\n",
       "      <th>mt</th>\n",
       "      <td>1.864521</td>\n",
       "      <td>27.648047</td>\n",
       "      <td>27.168025</td>\n",
       "    </tr>\n",
       "    <tr>\n",
       "      <th>nc</th>\n",
       "      <td>2.975413</td>\n",
       "      <td>33.742756</td>\n",
       "      <td>106.850195</td>\n",
       "    </tr>\n",
       "    <tr>\n",
       "      <th>nd</th>\n",
       "      <td>1.819514</td>\n",
       "      <td>32.233819</td>\n",
       "      <td>62.066433</td>\n",
       "    </tr>\n",
       "    <tr>\n",
       "      <th>ne</th>\n",
       "      <td>3.388058</td>\n",
       "      <td>35.954077</td>\n",
       "      <td>52.909179</td>\n",
       "    </tr>\n",
       "    <tr>\n",
       "      <th>nh</th>\n",
       "      <td>1.979628</td>\n",
       "      <td>34.947447</td>\n",
       "      <td>90.757717</td>\n",
       "    </tr>\n",
       "    <tr>\n",
       "      <th>nj</th>\n",
       "      <td>5.206864</td>\n",
       "      <td>47.372202</td>\n",
       "      <td>268.409672</td>\n",
       "    </tr>\n",
       "    <tr>\n",
       "      <th>nm</th>\n",
       "      <td>2.831049</td>\n",
       "      <td>30.258192</td>\n",
       "      <td>50.148421</td>\n",
       "    </tr>\n",
       "    <tr>\n",
       "      <th>nv</th>\n",
       "      <td>2.408068</td>\n",
       "      <td>29.376235</td>\n",
       "      <td>48.334352</td>\n",
       "    </tr>\n",
       "    <tr>\n",
       "      <th>ny</th>\n",
       "      <td>3.718063</td>\n",
       "      <td>38.789738</td>\n",
       "      <td>307.093592</td>\n",
       "    </tr>\n",
       "    <tr>\n",
       "      <th>oh</th>\n",
       "      <td>4.326209</td>\n",
       "      <td>48.325051</td>\n",
       "      <td>128.406555</td>\n",
       "    </tr>\n",
       "    <tr>\n",
       "      <th>ok</th>\n",
       "      <td>3.267452</td>\n",
       "      <td>35.448958</td>\n",
       "      <td>52.853924</td>\n",
       "    </tr>\n",
       "    <tr>\n",
       "      <th>or</th>\n",
       "      <td>1.755145</td>\n",
       "      <td>23.502542</td>\n",
       "      <td>36.031668</td>\n",
       "    </tr>\n",
       "    <tr>\n",
       "      <th>pa</th>\n",
       "      <td>3.287780</td>\n",
       "      <td>40.973751</td>\n",
       "      <td>125.123518</td>\n",
       "    </tr>\n",
       "    <tr>\n",
       "      <th>ri</th>\n",
       "      <td>3.250046</td>\n",
       "      <td>37.932890</td>\n",
       "      <td>187.408571</td>\n",
       "    </tr>\n",
       "    <tr>\n",
       "      <th>sc</th>\n",
       "      <td>3.294631</td>\n",
       "      <td>34.606172</td>\n",
       "      <td>84.175010</td>\n",
       "    </tr>\n",
       "    <tr>\n",
       "      <th>sd</th>\n",
       "      <td>4.380466</td>\n",
       "      <td>37.114721</td>\n",
       "      <td>57.052003</td>\n",
       "    </tr>\n",
       "    <tr>\n",
       "      <th>tn</th>\n",
       "      <td>3.781100</td>\n",
       "      <td>39.032943</td>\n",
       "      <td>135.718594</td>\n",
       "    </tr>\n",
       "    <tr>\n",
       "      <th>tx</th>\n",
       "      <td>4.340773</td>\n",
       "      <td>40.881133</td>\n",
       "      <td>69.353014</td>\n",
       "    </tr>\n",
       "    <tr>\n",
       "      <th>ut</th>\n",
       "      <td>2.902034</td>\n",
       "      <td>34.117618</td>\n",
       "      <td>58.415362</td>\n",
       "    </tr>\n",
       "    <tr>\n",
       "      <th>va</th>\n",
       "      <td>4.099853</td>\n",
       "      <td>39.998854</td>\n",
       "      <td>115.046509</td>\n",
       "    </tr>\n",
       "    <tr>\n",
       "      <th>vt</th>\n",
       "      <td>1.679158</td>\n",
       "      <td>30.655193</td>\n",
       "      <td>95.842055</td>\n",
       "    </tr>\n",
       "    <tr>\n",
       "      <th>wa</th>\n",
       "      <td>2.297944</td>\n",
       "      <td>28.708417</td>\n",
       "      <td>65.609161</td>\n",
       "    </tr>\n",
       "    <tr>\n",
       "      <th>wi</th>\n",
       "      <td>2.942571</td>\n",
       "      <td>37.361768</td>\n",
       "      <td>91.164070</td>\n",
       "    </tr>\n",
       "    <tr>\n",
       "      <th>wv</th>\n",
       "      <td>3.339840</td>\n",
       "      <td>38.660839</td>\n",
       "      <td>73.053935</td>\n",
       "    </tr>\n",
       "    <tr>\n",
       "      <th>wy</th>\n",
       "      <td>2.528523</td>\n",
       "      <td>31.050943</td>\n",
       "      <td>34.246777</td>\n",
       "    </tr>\n",
       "  </tbody>\n",
       "</table>\n",
       "</div>"
      ],
      "text/plain": [
       "          smoothed_cli smoothed_hh_cmnty_cli confirmed_7dav_incidence_prop\n",
       "geo_value                                                                 \n",
       "ak            1.988426             26.718404                     36.365002\n",
       "al            4.107746             36.076034                     82.811032\n",
       "ar            2.533740             34.849508                     97.342966\n",
       "az            2.694759             31.895911                     67.372724\n",
       "ca            2.357308             29.062623                     84.714756\n",
       "co            3.208922             38.293050                    201.896329\n",
       "ct            4.462179             43.893939                    143.101891\n",
       "dc            4.347457             35.377358                    295.027048\n",
       "de            3.527615             39.746193                    178.309220\n",
       "fl            3.966940             34.692345                    198.627934\n",
       "ga            4.674997             43.604375                    141.761813\n",
       "hi            1.479807             30.054274                    156.949275\n",
       "ia            3.571186             34.649496                     52.138352\n",
       "id            2.597932             30.890673                     28.588428\n",
       "il            3.758624             43.691680                    145.556753\n",
       "in            3.589440             41.839739                     97.130844\n",
       "ks            3.516681             38.640400                     68.682898\n",
       "ky            3.048790             37.838539                     62.870211\n",
       "la            5.277630             43.678713                    117.851381\n",
       "ma            3.268883             39.893918                    176.344355\n",
       "md            4.124256             44.394312                    176.053123\n",
       "me            2.066833             30.973130                     52.438967\n",
       "mi            2.726807             37.142181                     92.459230\n",
       "mn            2.962201             32.848129                     65.623953\n",
       "mo            3.102227             38.944373                     75.788124\n",
       "ms            5.022875             40.099449                     87.805457\n",
       "mt            1.864521             27.648047                     27.168025\n",
       "nc            2.975413             33.742756                    106.850195\n",
       "nd            1.819514             32.233819                     62.066433\n",
       "ne            3.388058             35.954077                     52.909179\n",
       "nh            1.979628             34.947447                     90.757717\n",
       "nj            5.206864             47.372202                    268.409672\n",
       "nm            2.831049             30.258192                     50.148421\n",
       "nv            2.408068             29.376235                     48.334352\n",
       "ny            3.718063             38.789738                    307.093592\n",
       "oh            4.326209             48.325051                    128.406555\n",
       "ok            3.267452             35.448958                     52.853924\n",
       "or            1.755145             23.502542                     36.031668\n",
       "pa            3.287780             40.973751                    125.123518\n",
       "ri            3.250046             37.932890                    187.408571\n",
       "sc            3.294631             34.606172                     84.175010\n",
       "sd            4.380466             37.114721                     57.052003\n",
       "tn            3.781100             39.032943                    135.718594\n",
       "tx            4.340773             40.881133                     69.353014\n",
       "ut            2.902034             34.117618                     58.415362\n",
       "va            4.099853             39.998854                    115.046509\n",
       "vt            1.679158             30.655193                     95.842055\n",
       "wa            2.297944             28.708417                     65.609161\n",
       "wi            2.942571             37.361768                     91.164070\n",
       "wv            3.339840             38.660839                     73.053935\n",
       "wy            2.528523             31.050943                     34.246777"
      ]
     },
     "execution_count": 7,
     "metadata": {},
     "output_type": "execute_result"
    }
   ],
   "source": [
    "df.columns = [['smoothed_cli','smoothed_hh_cmnty_cli','confirmed_7dav_incidence_prop']]\n",
    "df"
   ]
  },
  {
   "cell_type": "code",
   "execution_count": 8,
   "id": "3671e6ef",
   "metadata": {
    "ExecuteTime": {
     "end_time": "2022-10-27T01:42:11.808920Z",
     "start_time": "2022-10-27T01:42:11.682260Z"
    }
   },
   "outputs": [
    {
     "data": {
      "text/html": [
       "<div>\n",
       "<style scoped>\n",
       "    .dataframe tbody tr th:only-of-type {\n",
       "        vertical-align: middle;\n",
       "    }\n",
       "\n",
       "    .dataframe tbody tr th {\n",
       "        vertical-align: top;\n",
       "    }\n",
       "\n",
       "    .dataframe thead tr th {\n",
       "        text-align: left;\n",
       "    }\n",
       "</style>\n",
       "<table border=\"1\" class=\"dataframe\">\n",
       "  <thead>\n",
       "    <tr>\n",
       "      <th></th>\n",
       "      <th>smoothed_cli</th>\n",
       "      <th>smoothed_hh_cmnty_cli</th>\n",
       "      <th>confirmed_7dav_incidence_prop</th>\n",
       "    </tr>\n",
       "  </thead>\n",
       "  <tbody>\n",
       "    <tr>\n",
       "      <th>smoothed_cli</th>\n",
       "      <td>1.000000</td>\n",
       "      <td>0.82000</td>\n",
       "      <td>0.501719</td>\n",
       "    </tr>\n",
       "    <tr>\n",
       "      <th>smoothed_hh_cmnty_cli</th>\n",
       "      <td>0.820000</td>\n",
       "      <td>1.00000</td>\n",
       "      <td>0.630950</td>\n",
       "    </tr>\n",
       "    <tr>\n",
       "      <th>confirmed_7dav_incidence_prop</th>\n",
       "      <td>0.501719</td>\n",
       "      <td>0.63095</td>\n",
       "      <td>1.000000</td>\n",
       "    </tr>\n",
       "  </tbody>\n",
       "</table>\n",
       "</div>"
      ],
      "text/plain": [
       "                              smoothed_cli smoothed_hh_cmnty_cli  \\\n",
       "smoothed_cli                      1.000000               0.82000   \n",
       "smoothed_hh_cmnty_cli             0.820000               1.00000   \n",
       "confirmed_7dav_incidence_prop     0.501719               0.63095   \n",
       "\n",
       "                              confirmed_7dav_incidence_prop  \n",
       "smoothed_cli                                       0.501719  \n",
       "smoothed_hh_cmnty_cli                              0.630950  \n",
       "confirmed_7dav_incidence_prop                      1.000000  "
      ]
     },
     "execution_count": 8,
     "metadata": {},
     "output_type": "execute_result"
    },
    {
     "data": {
      "image/png": "[encoded data removed]",
      "text/plain": [
       "<Figure size 1152x504 with 2 Axes>"
      ]
     },
     "metadata": {
      "needs_background": "light"
     },
     "output_type": "display_data"
    }
   ],
   "source": [
    "# Write a function that will calculate the spearman correlation \n",
    "\n",
    "def correlation(df):\n",
    "    \"\"\" return a heatmap based on correlation values\n",
    "    \"\"\"\n",
    "    # calculate the spearman correlation\n",
    "    r = df.corr(method=\"spearman\")\n",
    "    plt.figure(figsize=(16,7)) #Set up size of canvas\n",
    "    heatmap = sns.heatmap(df.corr(), vmin=-1,vmax=1, annot=True) #Draw heatmap\n",
    "    plt.title(\"Spearman Correlation Heatmap\",fontsize = 15) #Set figure's title\n",
    "    plt.xlabel(\"Singals\")\n",
    "    plt.ylabel(\"Singals\")\n",
    "    return(r)\n",
    "correlation(df)"
   ]
  },
  {
   "cell_type": "markdown",
   "id": "e154284a",
   "metadata": {},
   "source": [
    "## Part II. Wage Data\n",
    "### Exercise 4.2\n",
    "**Exercise 4.2.** Consider the non-documented API from [ucannualwage.ucop.edu](https://ucannualwage.ucop.edu). We are interested in the median wage (gross pay) for UC Davis Deans from 2010 - 2021. Plot the median wage over all 12 years."
   ]
  },
  {
   "cell_type": "code",
   "execution_count": 9,
   "id": "299cfa7b",
   "metadata": {
    "ExecuteTime": {
     "end_time": "2022-10-27T01:42:11.814644Z",
     "start_time": "2022-10-27T01:42:11.810260Z"
    },
    "code_folding": [],
    "run_control": {
     "marked": false
    }
   },
   "outputs": [],
   "source": [
    "# column names based on website's database structures\n",
    "cols = ['id','year','location','first_name','last_name','title',\n",
    "      'gross_pay','regular_pay','overtime_pay','other_pay']\n",
    "\n",
    "# Function 1\n",
    "def converter(payload):\n",
    "    \"\"\"return total page number and datafame based on specific page number\n",
    "    *nd is randomly picked\n",
    "    \n",
    "    Client -----Post(payload)-----> Server\n",
    "    \"\"\"\n",
    "    url = 'https://ucannualwage.ucop.edu/wage/search.action'\n",
    "    result = requests.post(url, data=payload)\n",
    "    results = json.loads(result.text.replace(\"\\'\", \"\\\"\"),strict=False)\n",
    "    \"\"\"\n",
    "    In the dict data, the key 'total' stores the total page based on payload\n",
    "    the key 'rows' stores the data\n",
    "    \"\"\"\n",
    "    page_num = int(results['total'])\n",
    "    resultDF = pd.DataFrame(results['rows'])\n",
    "    #convert a list into dataframe columns per row\n",
    "    resultDF = pd.DataFrame(resultDF[\"cell\"].to_list(), columns=cols)\n",
    "    return (page_num, resultDF)\n",
    "\n",
    "# Function 2\n",
    "def payroll_year(year):\n",
    "    \"\"\"Return the wage data from Davis in a sepcific year\n",
    "    \"\"\"\n",
    "    payload = {'_search':'false','nd':'1666577780190','rows': 60, 'title':'Dean',\n",
    "           'sidx': 'EAW_LST_NAM','page':'1','year': year, 'location':'Davis'}\n",
    "    page_num,resultDF = converter(payload)\n",
    "    \n",
    "    #If the page number based on the serach condition is greater than 1\n",
    "    #it will use a for loop to navigate to next page\n",
    "    #tqdm is to view the progress bar offline\n",
    "    for i in tqdm(range(2, page_num+1)):\n",
    "        time.sleep(0.05)\n",
    "        payload = {'_search':'false','nd':'1666577780190','rows': 60,'title':'Dean',\n",
    "           'sidx': 'EAW_LST_NAM','page':i,'year': year, 'location':'Davis'}\n",
    "        #use new poyload and get the data\n",
    "        pageDF = converter(payload)[1]\n",
    "        #Combine dataframe\n",
    "        resultDF = pd.concat([resultDF, pageDF], ignore_index=True)\n",
    "    \n",
    "    print(f'Finish the web scrap of year {year}')\n",
    "    return resultDF"
   ]
  },
  {
   "cell_type": "code",
   "execution_count": 10,
   "id": "452acf06",
   "metadata": {
    "ExecuteTime": {
     "end_time": "2022-10-27T01:42:11.824441Z",
     "start_time": "2022-10-27T01:42:11.819428Z"
    }
   },
   "outputs": [
    {
     "data": {
      "text/plain": [
       "[2010, 2011, 2012, 2013, 2014, 2015, 2016, 2017, 2018, 2019, 2020, 2021]"
      ]
     },
     "execution_count": 10,
     "metadata": {},
     "output_type": "execute_result"
    }
   ],
   "source": [
    "# Generate year lists\n",
    "year_lst = [2010+x for x in range(12)]\n",
    "year_lst"
   ]
  },
  {
   "cell_type": "code",
   "execution_count": 11,
   "id": "ef374c94",
   "metadata": {
    "ExecuteTime": {
     "end_time": "2022-10-27T01:42:32.991568Z",
     "start_time": "2022-10-27T01:42:11.826441Z"
    },
    "scrolled": true
   },
   "outputs": [
    {
     "data": {
      "application/vnd.jupyter.widget-view+json": {
       "model_id": "ad334b10ddc84a058c9c1c57188ad562",
       "version_major": 2,
       "version_minor": 0
      },
      "text/plain": [
       "0it [00:00, ?it/s]"
      ]
     },
     "metadata": {},
     "output_type": "display_data"
    },
    {
     "name": "stdout",
     "output_type": "stream",
     "text": [
      "Finish the web scrap of year 2010\n"
     ]
    },
    {
     "data": {
      "application/vnd.jupyter.widget-view+json": {
       "model_id": "781d3e0429704642806c9ce039a75717",
       "version_major": 2,
       "version_minor": 0
      },
      "text/plain": [
       "0it [00:00, ?it/s]"
      ]
     },
     "metadata": {},
     "output_type": "display_data"
    },
    {
     "name": "stdout",
     "output_type": "stream",
     "text": [
      "Finish the web scrap of year 2011\n"
     ]
    },
    {
     "data": {
      "application/vnd.jupyter.widget-view+json": {
       "model_id": "db07bec659534c4489350e6452d1f676",
       "version_major": 2,
       "version_minor": 0
      },
      "text/plain": [
       "  0%|          | 0/1 [00:00<?, ?it/s]"
      ]
     },
     "metadata": {},
     "output_type": "display_data"
    },
    {
     "name": "stdout",
     "output_type": "stream",
     "text": [
      "Finish the web scrap of year 2012\n"
     ]
    },
    {
     "data": {
      "application/vnd.jupyter.widget-view+json": {
       "model_id": "253f6386ef9041e48a216f91a9c2ff80",
       "version_major": 2,
       "version_minor": 0
      },
      "text/plain": [
       "  0%|          | 0/1 [00:00<?, ?it/s]"
      ]
     },
     "metadata": {},
     "output_type": "display_data"
    },
    {
     "name": "stdout",
     "output_type": "stream",
     "text": [
      "Finish the web scrap of year 2013\n"
     ]
    },
    {
     "data": {
      "application/vnd.jupyter.widget-view+json": {
       "model_id": "10592cabf33b42a68f7e81def35521a6",
       "version_major": 2,
       "version_minor": 0
      },
      "text/plain": [
       "  0%|          | 0/1 [00:00<?, ?it/s]"
      ]
     },
     "metadata": {},
     "output_type": "display_data"
    },
    {
     "name": "stdout",
     "output_type": "stream",
     "text": [
      "Finish the web scrap of year 2014\n"
     ]
    },
    {
     "data": {
      "application/vnd.jupyter.widget-view+json": {
       "model_id": "95aa18c94ee74bd4b2f31262ea6b913b",
       "version_major": 2,
       "version_minor": 0
      },
      "text/plain": [
       "  0%|          | 0/1 [00:00<?, ?it/s]"
      ]
     },
     "metadata": {},
     "output_type": "display_data"
    },
    {
     "name": "stdout",
     "output_type": "stream",
     "text": [
      "Finish the web scrap of year 2015\n"
     ]
    },
    {
     "data": {
      "application/vnd.jupyter.widget-view+json": {
       "model_id": "b0efa99e170b4137a8d10e4be70dd0fe",
       "version_major": 2,
       "version_minor": 0
      },
      "text/plain": [
       "  0%|          | 0/1 [00:00<?, ?it/s]"
      ]
     },
     "metadata": {},
     "output_type": "display_data"
    },
    {
     "name": "stdout",
     "output_type": "stream",
     "text": [
      "Finish the web scrap of year 2016\n"
     ]
    },
    {
     "data": {
      "application/vnd.jupyter.widget-view+json": {
       "model_id": "02dc78217ee54758ade4f07b330f67d6",
       "version_major": 2,
       "version_minor": 0
      },
      "text/plain": [
       "  0%|          | 0/1 [00:00<?, ?it/s]"
      ]
     },
     "metadata": {},
     "output_type": "display_data"
    },
    {
     "name": "stdout",
     "output_type": "stream",
     "text": [
      "Finish the web scrap of year 2017\n"
     ]
    },
    {
     "data": {
      "application/vnd.jupyter.widget-view+json": {
       "model_id": "2f44993d4f0048afbd19b4c6018072c7",
       "version_major": 2,
       "version_minor": 0
      },
      "text/plain": [
       "  0%|          | 0/1 [00:00<?, ?it/s]"
      ]
     },
     "metadata": {},
     "output_type": "display_data"
    },
    {
     "name": "stdout",
     "output_type": "stream",
     "text": [
      "Finish the web scrap of year 2018\n"
     ]
    },
    {
     "data": {
      "application/vnd.jupyter.widget-view+json": {
       "model_id": "28ee6c6c8ce542b2bc249c8296b48cb5",
       "version_major": 2,
       "version_minor": 0
      },
      "text/plain": [
       "0it [00:00, ?it/s]"
      ]
     },
     "metadata": {},
     "output_type": "display_data"
    },
    {
     "name": "stdout",
     "output_type": "stream",
     "text": [
      "Finish the web scrap of year 2019\n"
     ]
    },
    {
     "data": {
      "application/vnd.jupyter.widget-view+json": {
       "model_id": "48fd5772386e45f9b2fd555b66aafdac",
       "version_major": 2,
       "version_minor": 0
      },
      "text/plain": [
       "0it [00:00, ?it/s]"
      ]
     },
     "metadata": {},
     "output_type": "display_data"
    },
    {
     "name": "stdout",
     "output_type": "stream",
     "text": [
      "Finish the web scrap of year 2020\n"
     ]
    },
    {
     "data": {
      "application/vnd.jupyter.widget-view+json": {
       "model_id": "90764d5852064ed58bfd45acb22868fa",
       "version_major": 2,
       "version_minor": 0
      },
      "text/plain": [
       "0it [00:00, ?it/s]"
      ]
     },
     "metadata": {},
     "output_type": "display_data"
    },
    {
     "name": "stdout",
     "output_type": "stream",
     "text": [
      "Finish the web scrap of year 2021\n"
     ]
    }
   ],
   "source": [
    "# Median \n",
    "row_lst = []\n",
    "for year in year_lst:\n",
    "    # Filter title == Dean\n",
    "    df = payroll_year(year)\n",
    "    #calculate the median of gross pay in each years\n",
    "    median = df['gross_pay'].median()\n",
    "    row_lst.append([year,median])\n",
    "#return to a dataframe\n",
    "medianDF = pd.DataFrame(row_lst,columns = ['year','median'])"
   ]
  },
  {
   "cell_type": "code",
   "execution_count": 12,
   "id": "734c5a00",
   "metadata": {
    "ExecuteTime": {
     "end_time": "2022-10-27T01:42:32.996638Z",
     "start_time": "2022-10-27T01:42:32.992546Z"
    },
    "run_control": {
     "marked": false
    }
   },
   "outputs": [
    {
     "data": {
      "text/html": [
       "<div>\n",
       "<style scoped>\n",
       "    .dataframe tbody tr th:only-of-type {\n",
       "        vertical-align: middle;\n",
       "    }\n",
       "\n",
       "    .dataframe tbody tr th {\n",
       "        vertical-align: top;\n",
       "    }\n",
       "\n",
       "    .dataframe thead th {\n",
       "        text-align: right;\n",
       "    }\n",
       "</style>\n",
       "<table border=\"1\" class=\"dataframe\">\n",
       "  <thead>\n",
       "    <tr style=\"text-align: right;\">\n",
       "      <th></th>\n",
       "      <th>year</th>\n",
       "      <th>median</th>\n",
       "    </tr>\n",
       "  </thead>\n",
       "  <tbody>\n",
       "    <tr>\n",
       "      <th>0</th>\n",
       "      <td>2010</td>\n",
       "      <td>150993.28</td>\n",
       "    </tr>\n",
       "    <tr>\n",
       "      <th>1</th>\n",
       "      <td>2011</td>\n",
       "      <td>158600.01</td>\n",
       "    </tr>\n",
       "    <tr>\n",
       "      <th>2</th>\n",
       "      <td>2012</td>\n",
       "      <td>154000.02</td>\n",
       "    </tr>\n",
       "    <tr>\n",
       "      <th>3</th>\n",
       "      <td>2013</td>\n",
       "      <td>161569.00</td>\n",
       "    </tr>\n",
       "    <tr>\n",
       "      <th>4</th>\n",
       "      <td>2014</td>\n",
       "      <td>174241.50</td>\n",
       "    </tr>\n",
       "    <tr>\n",
       "      <th>5</th>\n",
       "      <td>2015</td>\n",
       "      <td>189262.00</td>\n",
       "    </tr>\n",
       "    <tr>\n",
       "      <th>6</th>\n",
       "      <td>2016</td>\n",
       "      <td>182318.50</td>\n",
       "    </tr>\n",
       "    <tr>\n",
       "      <th>7</th>\n",
       "      <td>2017</td>\n",
       "      <td>206505.00</td>\n",
       "    </tr>\n",
       "    <tr>\n",
       "      <th>8</th>\n",
       "      <td>2018</td>\n",
       "      <td>226928.00</td>\n",
       "    </tr>\n",
       "    <tr>\n",
       "      <th>9</th>\n",
       "      <td>2019</td>\n",
       "      <td>282060.50</td>\n",
       "    </tr>\n",
       "    <tr>\n",
       "      <th>10</th>\n",
       "      <td>2020</td>\n",
       "      <td>348565.00</td>\n",
       "    </tr>\n",
       "    <tr>\n",
       "      <th>11</th>\n",
       "      <td>2021</td>\n",
       "      <td>280671.00</td>\n",
       "    </tr>\n",
       "  </tbody>\n",
       "</table>\n",
       "</div>"
      ],
      "text/plain": [
       "    year     median\n",
       "0   2010  150993.28\n",
       "1   2011  158600.01\n",
       "2   2012  154000.02\n",
       "3   2013  161569.00\n",
       "4   2014  174241.50\n",
       "5   2015  189262.00\n",
       "6   2016  182318.50\n",
       "7   2017  206505.00\n",
       "8   2018  226928.00\n",
       "9   2019  282060.50\n",
       "10  2020  348565.00\n",
       "11  2021  280671.00"
      ]
     },
     "execution_count": 12,
     "metadata": {},
     "output_type": "execute_result"
    }
   ],
   "source": [
    "#Check the median dataframe\n",
    "medianDF"
   ]
  },
  {
   "cell_type": "code",
   "execution_count": 13,
   "id": "48ad859c",
   "metadata": {
    "ExecuteTime": {
     "end_time": "2022-10-27T01:42:33.316016Z",
     "start_time": "2022-10-27T01:42:32.997507Z"
    }
   },
   "outputs": [
    {
     "data": {
      "image/png": "[encoded data removed]",
      "text/plain": [
       "<Figure size 1008x720 with 1 Axes>"
      ]
     },
     "metadata": {
      "needs_background": "light"
     },
     "output_type": "display_data"
    }
   ],
   "source": [
    "# Graph the line plot to see the trend\n",
    "plt.figure(figsize=(14, 10))\n",
    "plt.plot(medianDF['year'], medianDF['median'],'bo-')\n",
    "plt.title(\"The median wage (gross pay) for UC Davis Deans from 2010 - 2021\",fontsize = 15)\n",
    "plt.xlabel(\"Years\")\n",
    "plt.ylabel(\"Median wage (gross pay)\")\n",
    "\n",
    "for x,y in zip(medianDF['year'],medianDF['median']):\n",
    "    label = \"{:.2f}\".format(y)\n",
    "    plt.annotate(label, # this is the text\n",
    "                 (x,y), # position of the label\n",
    "                 textcoords=\"offset points\", #position of the text\n",
    "                 xytext=(0,10), # distance from text to points\n",
    "                 ha='center') # center the test\n",
    "\n",
    "plt.show()"
   ]
  }
 ],
 "metadata": {
  "kernelspec": {
   "display_name": "Python 3 (ipykernel)",
   "language": "python",
   "name": "python3"
  },
  "language_info": {
   "codemirror_mode": {
    "name": "ipython",
    "version": 3
   },
   "file_extension": ".py",
   "mimetype": "text/x-python",
   "name": "python",
   "nbconvert_exporter": "python",
   "pygments_lexer": "ipython3",
   "version": "3.10.1"
  },
  "latex_envs": {
   "LaTeX_envs_menu_present": true,
   "autoclose": false,
   "autocomplete": true,
   "bibliofile": "biblio.bib",
   "cite_by": "apalike",
   "current_citInitial": 1,
   "eqLabelWithNumbers": true,
   "eqNumInitial": 1,
   "hotkeys": {
    "equation": "Ctrl-E",
    "itemize": "Ctrl-I"
   },
   "labels_anchors": false,
   "latex_user_defs": false,
   "report_style_numbering": false,
   "user_envs_cfg": false
  },
  "toc": {
   "base_numbering": 1,
   "nav_menu": {},
   "number_sections": false,
   "sideBar": true,
   "skip_h1_title": true,
   "title_cell": "Table of Contents",
   "title_sidebar": "Contents",
   "toc_cell": false,
   "toc_position": {},
   "toc_section_display": true,
   "toc_window_display": false
  },
  "varInspector": {
   "cols": {
    "lenName": 16,
    "lenType": 16,
    "lenVar": 40
   },
   "kernels_config": {
    "python": {
     "delete_cmd_postfix": "",
     "delete_cmd_prefix": "del ",
     "library": "var_list.py",
     "varRefreshCmd": "print(var_dic_list())"
    },
    "r": {
     "delete_cmd_postfix": ") ",
     "delete_cmd_prefix": "rm(",
     "library": "var_list.r",
     "varRefreshCmd": "cat(var_dic_list()) "
    }
   },
   "types_to_exclude": [
    "module",
    "function",
    "builtin_function_or_method",
    "instance",
    "_Feature"
   ],
   "window_display": false
  }
 },
 "nbformat": 4,
 "nbformat_minor": 5
}
