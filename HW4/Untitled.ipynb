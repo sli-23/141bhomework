{
 "cells": [
  {
   "cell_type": "code",
   "execution_count": 7,
   "id": "95132d28",
   "metadata": {
    "ExecuteTime": {
     "end_time": "2022-10-24T11:09:21.009641Z",
     "start_time": "2022-10-24T11:09:21.006234Z"
    }
   },
   "outputs": [
    {
     "name": "stdout",
     "output_type": "stream",
     "text": [
      "主线程开始时间：2022-10-24 05:05:28\n",
      "线程名称：Thread-13 参数：3 开始时间：2022-10-24 05:05:28\n",
      "线程名称：Thread-14 参数：2 开始时间：2022-10-24 05:05:28\n",
      "线程名称：Thread-15 参数：1 开始时间：2022-10-24 05:05:28\n",
      "线程名称：Thread-15 参数：1 结束时间：2022-10-24 05:05:31\n",
      "线程名称：Thread-14 参数：2 结束时间：2022-10-24 05:05:34\n",
      "线程名称：Thread-13 参数：3 结束时间：2022-10-24 05:05:37\n",
      "主线程结束时间：2022-10-24 05:05:37\n"
     ]
    }
   ],
   "source": [
    "import time\n",
    "import threading\n",
    "\n",
    "\n",
    "def task_thread(counter):\n",
    "    print(f'线程名称：{threading.current_thread().name} 参数：{counter} 开始时间：{time.strftime(\"%Y-%m-%d %H:%M:%S\")}')\n",
    "    num = counter\n",
    "    while num:\n",
    "        time.sleep(3)\n",
    "        num -= 1\n",
    "    print(f'线程名称：{threading.current_thread().name} 参数：{counter} 结束时间：{time.strftime(\"%Y-%m-%d %H:%M:%S\")}')\n",
    "\n",
    "\n",
    "class MyThread(threading.Thread):\n",
    "    def __init__(self, target, args):\n",
    "        super().__init__()\n",
    "        self.target = target\n",
    "        self.args = args\n",
    "\n",
    "    def run(self):\n",
    "        self.target(*self.args)\n",
    "\n",
    "\n",
    "if __name__ == \"__main__\":\n",
    "    print(f'主线程开始时间：{time.strftime(\"%Y-%m-%d %H:%M:%S\")}')\n",
    "\n",
    "    # 初始化3个线程，传递不同的参数\n",
    "    t1 = MyThread(target=task_thread,args=(3,))\n",
    "    t2 = MyThread(target=task_thread,args=(2,))\n",
    "    t3 = MyThread(target=task_thread,args=(1,))\n",
    "    # 开启三个线程\n",
    "    t1.start()\n",
    "    t2.start()\n",
    "    t3.start()\n",
    "    # 等待运行结束\n",
    "    t1.join()\n",
    "    t2.join()\n",
    "    t3.join()\n",
    "\n",
    "    print(f'主线程结束时间：{time.strftime(\"%Y-%m-%d %H:%M:%S\")}')\n",
    "\n"
   ]
  },
  {
   "cell_type": "code",
   "execution_count": null,
   "id": "5db9de88",
   "metadata": {},
   "outputs": [],
   "source": []
  }
 ],
 "metadata": {
  "kernelspec": {
   "display_name": "Python 3.10.1 64-bit",
   "language": "python",
   "name": "python3"
  },
  "language_info": {
   "codemirror_mode": {
    "name": "ipython",
    "version": 3
   },
   "file_extension": ".py",
   "mimetype": "text/x-python",
   "name": "python",
   "nbconvert_exporter": "python",
   "pygments_lexer": "ipython3",
   "version": "3.10.1"
  },
  "latex_envs": {
   "LaTeX_envs_menu_present": true,
   "autoclose": false,
   "autocomplete": true,
   "bibliofile": "biblio.bib",
   "cite_by": "apalike",
   "current_citInitial": 1,
   "eqLabelWithNumbers": true,
   "eqNumInitial": 1,
   "hotkeys": {
    "equation": "Ctrl-E",
    "itemize": "Ctrl-I"
   },
   "labels_anchors": false,
   "latex_user_defs": false,
   "report_style_numbering": false,
   "user_envs_cfg": false
  },
  "toc": {
   "base_numbering": 1,
   "nav_menu": {},
   "number_sections": false,
   "sideBar": true,
   "skip_h1_title": true,
   "title_cell": "Table of Contents",
   "title_sidebar": "Contents",
   "toc_cell": false,
   "toc_position": {},
   "toc_section_display": true,
   "toc_window_display": false
  },
  "varInspector": {
   "cols": {
    "lenName": 16,
    "lenType": 16,
    "lenVar": 40
   },
   "kernels_config": {
    "python": {
     "delete_cmd_postfix": "",
     "delete_cmd_prefix": "del ",
     "library": "var_list.py",
     "varRefreshCmd": "print(var_dic_list())"
    },
    "r": {
     "delete_cmd_postfix": ") ",
     "delete_cmd_prefix": "rm(",
     "library": "var_list.r",
     "varRefreshCmd": "cat(var_dic_list()) "
    }
   },
   "types_to_exclude": [
    "module",
    "function",
    "builtin_function_or_method",
    "instance",
    "_Feature"
   ],
   "window_display": false
  },
  "vscode": {
   "interpreter": {
    "hash": "aee8b7b246df8f9039afb4144a1f6fd8d2ca17a180786b69acc140d282b71a49"
   }
  }
 },
 "nbformat": 4,
 "nbformat_minor": 5
}
