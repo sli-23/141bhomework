{
 "cells": [
  {
   "cell_type": "markdown",
   "metadata": {},
   "source": [
    "# STA 141B Assignment 1\n",
    "\n",
    "Due __October 6, 2022__ by __11:59pm__. Submit by editing this file and then uploading to Canvas.\n",
    "\n",
    "Please rename this file with __\"LastName_FirstName_hw1\"__ \n",
    "\n",
    "The purpose of this assignment is to practice programming fundamentals: writing functions, if-statements, and loops. We'll get to more interesting and data science-y exercises in the next assignment.\n",
    "\n",
    "Notes: \n",
    "1. Put your answers in new cells after each exercise. You can make as many new cells as you like. Use code cells for code and Markdown cells for text. Answer all questions with complete sentences.\n",
    "\n",
    "2. Your code should be readable; writing a piece of code should be compared to writing a page of a book. Adopt the __one-statement-per-line__ rule. Consider splitting a lengthy statement into multiple lines to improve readability. (You will lose one point for each line that does not follow the one-statement-per-line rule)\n",
    "\n",
    "3. To help understand and maintain code, you should always add comments to explain your code. Use the hash symbol (#) to start writing a comment (homework without any comments will automatically receive 0 points).\n",
    "\n",
    "4. Submit your final work with a __.pdf__ (or a __.html__) file to Canvas. To convert a .ipynb file to a .pdf/.html file, go to \"File\", click \"Download as\", and then click \"PDF via LaTeX\"/\"HTML\". \n",
    "\n",
    "5. This assignment will be graded for correctness."
   ]
  },
  {
   "cell_type": "markdown",
   "metadata": {
    "tags": [
     "exercise"
    ]
   },
   "source": [
    "## Writing Functions\n",
    "\n",
    "__Exercise 1.1 (2 points).__ Write a function `my_median` that takes a list of numbers as input and returns their median as output. Let the number of samples in data set `n`. If `n` is odd, median is the middle number. If `n` is even, median is the average of two middle values. Test your function on one odd sample size and one even sample size example.\n",
    "\n",
    "_Hint: use `sorted` function._"
   ]
  },
  {
   "cell_type": "markdown",
   "metadata": {
    "tags": [
     "exercise"
    ]
   },
   "source": [
    "__Exercise 1.2 (2 points).__ For the function you wrote in Exercise 1.3, what happens if the input list is empty or contains non-numeric elements? Create a new version of your function called `better_median` that returns `None` when either of these unusual cases occur. (Be cautious not to print `\"None\"` string. The output should be empty.)\n",
    "\n",
    "_Hint: A similar problem is discussed in [Section 6.8](http://greenteapress.com/thinkpython2/html/thinkpython2007.html#sec77) of Think Python._"
   ]
  },
  {
   "cell_type": "markdown",
   "metadata": {
    "tags": [
     "exercise"
    ]
   },
   "source": [
    "__Exercise 1.3 (1 points).__ Read [Section 4.9](http://greenteapress.com/thinkpython2/html/thinkpython2005.html#sec50) of Think Python. Create a new version of your function from Exercise 1.4 called `best_median` that includes a docstring explaining how to use the function. Give an example to show that your docstring works with Python's built-in help system."
   ]
  },
  {
   "cell_type": "markdown",
   "metadata": {},
   "source": [
    "## Factorial\n",
    "\n",
    "The [Factorial](https://en.wikipedia.org/wiki/Factorial) of a non-negative integer `n`, denoted by n!, is the product of all positive integers less than or equal to n.\n",
    "\n",
    "For example,\n",
    "```\n",
    "5! = 5 x 4 x 3 x 2 x 1 = 120.\n",
    "```\n",
    "\n",
    "__Exercise 1.4 (2 points).__ Write a function `fact` that computes the factorial without recursion. Your function should take an argument `n`.\n",
    "\n",
    "Use your function to print the 18! and 22!."
   ]
  },
  {
   "cell_type": "markdown",
   "metadata": {},
   "source": [
    "## Fibonacci Words\n",
    "\n",
    "A [Fibonacci word](https://en.wikipedia.org/wiki/Fibonacci_word) is a string of 0s and 1s constructed by repeatedly concatenating strings. The first two words are\n",
    "\n",
    "```\n",
    "S0 = \"0\"\n",
    "S1 = \"01\"\n",
    "```\n",
    "\n",
    "Then each word is formed by concatenating the previous two words in the sequence. For instance, `S2`, is formed by concatenating `S1` and `S0`. So\n",
    "\n",
    "```\n",
    "S2 = \"010\"\n",
    "S3 = \"01001\"\n",
    "```\n",
    "\n",
    "__Exercise 1.5 (3 points).__ Write a function `fib` that computes Fibonacci words. Your function should take an argument `n` that specifies which word to compute.\n",
    "\n",
    "Use your function to print the first 10 Fibonacci words."
   ]
  }
 ],
 "metadata": {
  "kernelspec": {
   "display_name": "Python 3 (ipykernel)",
   "language": "python",
   "name": "python3"
  },
  "language_info": {
   "codemirror_mode": {
    "name": "ipython",
    "version": 3
   },
   "file_extension": ".py",
   "mimetype": "text/x-python",
   "name": "python",
   "nbconvert_exporter": "python",
   "pygments_lexer": "ipython3",
   "version": "3.10.1"
  },
  "latex_envs": {
   "LaTeX_envs_menu_present": true,
   "autoclose": false,
   "autocomplete": true,
   "bibliofile": "biblio.bib",
   "cite_by": "apalike",
   "current_citInitial": 1,
   "eqLabelWithNumbers": true,
   "eqNumInitial": 1,
   "hotkeys": {
    "equation": "Ctrl-E",
    "itemize": "Ctrl-I"
   },
   "labels_anchors": false,
   "latex_user_defs": false,
   "report_style_numbering": false,
   "user_envs_cfg": false
  },
  "toc": {
   "base_numbering": 1,
   "nav_menu": {},
   "number_sections": true,
   "sideBar": true,
   "skip_h1_title": false,
   "title_cell": "Table of Contents",
   "title_sidebar": "Contents",
   "toc_cell": false,
   "toc_position": {},
   "toc_section_display": true,
   "toc_window_display": false
  },
  "varInspector": {
   "cols": {
    "lenName": 16,
    "lenType": 16,
    "lenVar": 40
   },
   "kernels_config": {
    "python": {
     "delete_cmd_postfix": "",
     "delete_cmd_prefix": "del ",
     "library": "var_list.py",
     "varRefreshCmd": "print(var_dic_list())"
    },
    "r": {
     "delete_cmd_postfix": ") ",
     "delete_cmd_prefix": "rm(",
     "library": "var_list.r",
     "varRefreshCmd": "cat(var_dic_list()) "
    }
   },
   "types_to_exclude": [
    "module",
    "function",
    "builtin_function_or_method",
    "instance",
    "_Feature"
   ],
   "window_display": false
  }
 },
 "nbformat": 4,
 "nbformat_minor": 4
}
