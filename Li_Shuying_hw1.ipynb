{
 "cells": [
  {
   "cell_type": "markdown",
   "id": "d0fd795c",
   "metadata": {},
   "source": [
    "# STA 141B Homework 1"
   ]
  },
  {
   "cell_type": "markdown",
   "id": "8a3fb737",
   "metadata": {},
   "source": [
    "## Writing Functions \n",
    "### Exercise 1.1\n",
    "* If `n` is odd, median is the middle number.\n",
    "* if `n` is even, median is the average of two middle values."
   ]
  },
  {
   "cell_type": "code",
   "execution_count": 8,
   "id": "13057b7e",
   "metadata": {
    "ExecuteTime": {
     "end_time": "2022-09-29T19:11:29.421757Z",
     "start_time": "2022-09-29T19:11:29.418528Z"
    },
    "code_folding": [],
    "run_control": {
     "marked": false
    }
   },
   "outputs": [],
   "source": [
    "def my_median(lst):\n",
    "    lst = sorted(lst)\n",
    "    n = len(lst)\n",
    "    # Even\n",
    "    if n % 2 == 0:\n",
    "        return (lst[n//2] + lst[n//2 - 1]) / 2\n",
    "    # Odd\n",
    "    else:\n",
    "        return lst[n//2]"
   ]
  },
  {
   "cell_type": "code",
   "execution_count": 9,
   "id": "09f45ad3",
   "metadata": {
    "ExecuteTime": {
     "end_time": "2022-09-29T19:11:29.473417Z",
     "start_time": "2022-09-29T19:11:29.424077Z"
    }
   },
   "outputs": [
    {
     "data": {
      "text/plain": [
       "True"
      ]
     },
     "execution_count": 9,
     "metadata": {},
     "output_type": "execute_result"
    }
   ],
   "source": [
    "#Test case - even - Exercise 1.1\n",
    "## ONLY USE IN TEST CASES\n",
    "import statistics\n",
    "\n",
    "statistics.median([1,2,3,4,5,6]) == my_median([1,2,3,4,5,6])"
   ]
  },
  {
   "cell_type": "code",
   "execution_count": 10,
   "id": "4b79e423",
   "metadata": {
    "ExecuteTime": {
     "end_time": "2022-09-29T19:11:29.478032Z",
     "start_time": "2022-09-29T19:11:29.475247Z"
    }
   },
   "outputs": [
    {
     "data": {
      "text/plain": [
       "True"
      ]
     },
     "execution_count": 10,
     "metadata": {},
     "output_type": "execute_result"
    }
   ],
   "source": [
    "#Test cases - odd - Exercise 1.1\n",
    "statistics.median([1,2,3,4,5]) == my_median([1,2,3,4,5])"
   ]
  },
  {
   "cell_type": "markdown",
   "id": "810f5dfc",
   "metadata": {},
   "source": [
    "### Exercise 1.2\n",
    "* If the input list is empty or contains non-numeric elements, return `None`"
   ]
  },
  {
   "cell_type": "markdown",
   "id": "0b721228",
   "metadata": {},
   "source": [
    "```python\n",
    "def better_median(lst):\n",
    "    if len(lst) > 0:\n",
    "        try:\n",
    "            lst = [int(item) for item in lst]\n",
    "            lst = sorted(lst)\n",
    "            n = len(lst)\n",
    "            if n % 2 == 0:\n",
    "                return (lst[n//2] + lst[n//2 - 1]) / 2\n",
    "            else:\n",
    "                return lst[n//2]\n",
    "        except:\n",
    "            return None\n",
    "    else:\n",
    "        return None\n",
    "```"
   ]
  },
  {
   "cell_type": "code",
   "execution_count": 11,
   "id": "c9891b5e",
   "metadata": {
    "ExecuteTime": {
     "end_time": "2022-09-29T19:11:29.481170Z",
     "start_time": "2022-09-29T19:11:29.479319Z"
    }
   },
   "outputs": [],
   "source": [
    "def better_median(lst):\n",
    "    # Check length\n",
    "    if len(lst) > 0:\n",
    "        try:\n",
    "            lst = [int(item) for item in lst]\n",
    "            return my_median(lst)\n",
    "        except:\n",
    "            return None\n",
    "    else:\n",
    "        return None"
   ]
  },
  {
   "cell_type": "code",
   "execution_count": 12,
   "id": "8252cc7c",
   "metadata": {
    "ExecuteTime": {
     "end_time": "2022-09-29T19:11:29.483900Z",
     "start_time": "2022-09-29T19:11:29.481946Z"
    }
   },
   "outputs": [],
   "source": [
    "#Test case - Exercise 1.2\n",
    "better_median([])"
   ]
  },
  {
   "cell_type": "code",
   "execution_count": 13,
   "id": "ac4e09c9",
   "metadata": {
    "ExecuteTime": {
     "end_time": "2022-09-29T19:11:29.486115Z",
     "start_time": "2022-09-29T19:11:29.484721Z"
    }
   },
   "outputs": [],
   "source": [
    "#Test case - Exercise 1.2\n",
    "better_median([1,2,3,'little', 'box'])"
   ]
  },
  {
   "cell_type": "code",
   "execution_count": 14,
   "id": "b5922050",
   "metadata": {
    "ExecuteTime": {
     "end_time": "2022-09-29T19:11:29.488456Z",
     "start_time": "2022-09-29T19:11:29.486717Z"
    }
   },
   "outputs": [
    {
     "data": {
      "text/plain": [
       "2"
      ]
     },
     "execution_count": 14,
     "metadata": {},
     "output_type": "execute_result"
    }
   ],
   "source": [
    "#Test case - Exercise 1.2\n",
    "better_median(['1','2','3'])"
   ]
  },
  {
   "cell_type": "code",
   "execution_count": 15,
   "id": "a5430137",
   "metadata": {
    "ExecuteTime": {
     "end_time": "2022-09-29T19:11:29.490767Z",
     "start_time": "2022-09-29T19:11:29.489088Z"
    }
   },
   "outputs": [
    {
     "data": {
      "text/plain": [
       "3"
      ]
     },
     "execution_count": 15,
     "metadata": {},
     "output_type": "execute_result"
    }
   ],
   "source": [
    "#Test case - Exercise 1.2\n",
    "better_median([2,3,4])"
   ]
  },
  {
   "cell_type": "markdown",
   "id": "1bb3fc91",
   "metadata": {},
   "source": [
    "### Exercise 1.3\n",
    "* Give an example to show that your **docstring** works with Python's built-in help system."
   ]
  },
  {
   "cell_type": "code",
   "execution_count": 16,
   "id": "927a8b06",
   "metadata": {
    "ExecuteTime": {
     "end_time": "2022-09-29T19:11:29.493865Z",
     "start_time": "2022-09-29T19:11:29.492211Z"
    }
   },
   "outputs": [],
   "source": [
    "def best_median(lst):\n",
    "    \"\"\"The best median function return the median (middle value) of numeric data\n",
    "    \n",
    "    The function will return to None if:\n",
    "    1. the list contain non-numeric elements\n",
    "    2. the length of the list is less or equal to 0\n",
    "    \n",
    "    The function will automatically convert string numbers to numbers.\n",
    "    \n",
    "    If the length of the numeric list or array is odd, median is the middle number.\n",
    "    If the length of the numeric list or array is even, median is the average of two middle values.\n",
    "    \n",
    "    Example:\n",
    "    >>> best_median([1,2,2])\n",
    "    2\n",
    "    \n",
    "    >>> best_median([1,2,2,3])\n",
    "    2\n",
    "    \n",
    "    >>> best_median(['1','2','2'])\n",
    "    2\n",
    "    \n",
    "    >>> best_median([1,1,'little', 'box'])\n",
    "    None\n",
    "    \"\"\"\n",
    "    return better_median(lst)"
   ]
  },
  {
   "cell_type": "code",
   "execution_count": 17,
   "id": "cf08852b",
   "metadata": {
    "ExecuteTime": {
     "end_time": "2022-09-29T19:11:29.495845Z",
     "start_time": "2022-09-29T19:11:29.494463Z"
    }
   },
   "outputs": [
    {
     "name": "stdout",
     "output_type": "stream",
     "text": [
      "The best median function return the median (middle value) of numeric data\n",
      "    \n",
      "    The function will return to None if:\n",
      "    1. the list contain non-numeric elements\n",
      "    2. the length of the list is less or equal to 0\n",
      "    \n",
      "    The function will automatically convert string numbers to numbers.\n",
      "    \n",
      "    If the length of the numeric list or array is odd, median is the middle number.\n",
      "    If the length of the numeric list or array is even, median is the average of two middle values.\n",
      "    \n",
      "    Example:\n",
      "    >>> best_median([1,2,2])\n",
      "    2\n",
      "    \n",
      "    >>> best_median([1,2,2,3])\n",
      "    2\n",
      "    \n",
      "    >>> best_median(['1','2','2'])\n",
      "    2\n",
      "    \n",
      "    >>> best_median([1,1,'little', 'box'])\n",
      "    None\n",
      "    \n"
     ]
    }
   ],
   "source": [
    "print(best_median.__doc__)"
   ]
  },
  {
   "cell_type": "markdown",
   "id": "3d5f5052",
   "metadata": {},
   "source": [
    "## 1.2 Factorial"
   ]
  },
  {
   "cell_type": "markdown",
   "id": "35c2fe7d",
   "metadata": {},
   "source": [
    "### Exercise 1.4\n",
    "* Write a function `fact` that computes the factorial without recursion. Your function should take an argument `n`."
   ]
  },
  {
   "cell_type": "code",
   "execution_count": 26,
   "id": "e29fdeee",
   "metadata": {
    "ExecuteTime": {
     "end_time": "2022-09-29T19:15:25.690449Z",
     "start_time": "2022-09-29T19:15:25.687702Z"
    }
   },
   "outputs": [],
   "source": [
    "def fact(n):\n",
    "    sum = 1\n",
    "    for i in range(1, n + 1):\n",
    "        sum *= i\n",
    "    return sum"
   ]
  },
  {
   "cell_type": "code",
   "execution_count": 28,
   "id": "04cfe987",
   "metadata": {
    "ExecuteTime": {
     "end_time": "2022-09-29T19:16:46.598366Z",
     "start_time": "2022-09-29T19:16:46.595187Z"
    }
   },
   "outputs": [
    {
     "name": "stdout",
     "output_type": "stream",
     "text": [
      "True\n"
     ]
    }
   ],
   "source": [
    "# Test Case - Exercise 1.4\n",
    "# ONLY USE IN TEST CASES\n",
    "import math\n",
    "\n",
    "print(math.factorial(18) == math.factorial(18))"
   ]
  },
  {
   "cell_type": "code",
   "execution_count": 30,
   "id": "8e15e059",
   "metadata": {
    "ExecuteTime": {
     "end_time": "2022-09-29T19:16:57.095416Z",
     "start_time": "2022-09-29T19:16:57.092206Z"
    }
   },
   "outputs": [
    {
     "name": "stdout",
     "output_type": "stream",
     "text": [
      "True\n"
     ]
    }
   ],
   "source": [
    "# Test Case - Exercise 1.4\n",
    "print(math.factorial(22) == math.factorial(22))"
   ]
  },
  {
   "cell_type": "markdown",
   "id": "d4488b36",
   "metadata": {},
   "source": [
    "## 1.3 Fibonacci Words"
   ]
  },
  {
   "cell_type": "markdown",
   "id": "3a808b3f",
   "metadata": {},
   "source": [
    "### Exercise 1.5\n",
    "* Write a function `fib` that computes Fibonacci words. Your function should take an argument `n` that specifies which word to compute."
   ]
  },
  {
   "cell_type": "code",
   "execution_count": 57,
   "id": "1dd3b755",
   "metadata": {
    "ExecuteTime": {
     "end_time": "2022-09-29T19:36:28.544321Z",
     "start_time": "2022-09-29T19:36:28.541011Z"
    }
   },
   "outputs": [],
   "source": [
    "def fib(n):\n",
    "    \"\"\" Compute nth element of a Fibonacci Words\n",
    "    \"\"\"\n",
    "    i = 0\n",
    "    s0 = '0'\n",
    "    s1 = '01'\n",
    "    while i < n:\n",
    "        s0, s1 = s1, s1 + s0\n",
    "        i += 1\n",
    "    return s0"
   ]
  },
  {
   "cell_type": "code",
   "execution_count": 59,
   "id": "711eaf72",
   "metadata": {
    "ExecuteTime": {
     "end_time": "2022-09-29T19:36:44.423765Z",
     "start_time": "2022-09-29T19:36:44.420380Z"
    }
   },
   "outputs": [
    {
     "name": "stdout",
     "output_type": "stream",
     "text": [
      "0\n",
      "01\n",
      "010\n",
      "01001\n",
      "01001010\n",
      "0100101001001\n",
      "010010100100101001010\n",
      "0100101001001010010100100101001001\n",
      "0100101001001010010100100101001001010010100100101001010\n",
      "01001010010010100101001001010010010100101001001010010100100101001001010010100100101001001\n",
      "010010100100101001010010010100100101001010010010100101001001010010010100101001001010010010100101001001010010100100101001001010010100100101001010\n"
     ]
    }
   ],
   "source": [
    "# Test Case - Exercise 1.5\n",
    "for i in range(11):\n",
    "    print(fib(i))"
   ]
  },
  {
   "cell_type": "code",
   "execution_count": 60,
   "id": "808c0ebb",
   "metadata": {
    "ExecuteTime": {
     "end_time": "2022-09-29T19:39:14.690841Z",
     "start_time": "2022-09-29T19:39:14.688317Z"
    }
   },
   "outputs": [
    {
     "name": "stdout",
     "output_type": "stream",
     "text": [
      " Compute nth element of a Fibonacci Words\n",
      "    \n"
     ]
    }
   ],
   "source": [
    "print(fib.__doc__)"
   ]
  }
 ],
 "metadata": {
  "kernelspec": {
   "display_name": "Python 3 (ipykernel)",
   "language": "python",
   "name": "python3"
  },
  "language_info": {
   "codemirror_mode": {
    "name": "ipython",
    "version": 3
   },
   "file_extension": ".py",
   "mimetype": "text/x-python",
   "name": "python",
   "nbconvert_exporter": "python",
   "pygments_lexer": "ipython3",
   "version": "3.10.1"
  },
  "latex_envs": {
   "LaTeX_envs_menu_present": true,
   "autoclose": false,
   "autocomplete": true,
   "bibliofile": "biblio.bib",
   "cite_by": "apalike",
   "current_citInitial": 1,
   "eqLabelWithNumbers": true,
   "eqNumInitial": 1,
   "hotkeys": {
    "equation": "Ctrl-E",
    "itemize": "Ctrl-I"
   },
   "labels_anchors": false,
   "latex_user_defs": false,
   "report_style_numbering": false,
   "user_envs_cfg": false
  },
  "toc": {
   "base_numbering": 1,
   "nav_menu": {},
   "number_sections": false,
   "sideBar": true,
   "skip_h1_title": true,
   "title_cell": "Table of Contents",
   "title_sidebar": "Contents",
   "toc_cell": false,
   "toc_position": {
    "height": "calc(100% - 180px)",
    "left": "10px",
    "top": "150px",
    "width": "288px"
   },
   "toc_section_display": true,
   "toc_window_display": false
  },
  "varInspector": {
   "cols": {
    "lenName": 16,
    "lenType": 16,
    "lenVar": 40
   },
   "kernels_config": {
    "python": {
     "delete_cmd_postfix": "",
     "delete_cmd_prefix": "del ",
     "library": "var_list.py",
     "varRefreshCmd": "print(var_dic_list())"
    },
    "r": {
     "delete_cmd_postfix": ") ",
     "delete_cmd_prefix": "rm(",
     "library": "var_list.r",
     "varRefreshCmd": "cat(var_dic_list()) "
    }
   },
   "types_to_exclude": [
    "module",
    "function",
    "builtin_function_or_method",
    "instance",
    "_Feature"
   ],
   "window_display": false
  }
 },
 "nbformat": 4,
 "nbformat_minor": 5
}
